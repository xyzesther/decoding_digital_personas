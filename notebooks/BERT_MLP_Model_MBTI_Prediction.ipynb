{
  "nbformat": 4,
  "nbformat_minor": 0,
  "metadata": {
    "colab": {
      "provenance": [],
      "gpuType": "T4"
    },
    "kernelspec": {
      "name": "python3",
      "display_name": "Python 3"
    },
    "language_info": {
      "name": "python"
    },
    "accelerator": "GPU",
    "widgets": {
      "application/vnd.jupyter.widget-state+json": {
        "89df7f2869ef4768892f07f47b2f8fa0": {
          "model_module": "@jupyter-widgets/controls",
          "model_name": "HBoxModel",
          "model_module_version": "1.5.0",
          "state": {
            "_dom_classes": [],
            "_model_module": "@jupyter-widgets/controls",
            "_model_module_version": "1.5.0",
            "_model_name": "HBoxModel",
            "_view_count": null,
            "_view_module": "@jupyter-widgets/controls",
            "_view_module_version": "1.5.0",
            "_view_name": "HBoxView",
            "box_style": "",
            "children": [
              "IPY_MODEL_ecc7401921b74ae2a7d86cebc3fb9626",
              "IPY_MODEL_d48bf386d7d24df79ed00d2496561c8a",
              "IPY_MODEL_8a6d165bb8f24a10a166108fb7729bdb"
            ],
            "layout": "IPY_MODEL_773082bd3b3d45898e65e32afaa35bef"
          }
        },
        "ecc7401921b74ae2a7d86cebc3fb9626": {
          "model_module": "@jupyter-widgets/controls",
          "model_name": "HTMLModel",
          "model_module_version": "1.5.0",
          "state": {
            "_dom_classes": [],
            "_model_module": "@jupyter-widgets/controls",
            "_model_module_version": "1.5.0",
            "_model_name": "HTMLModel",
            "_view_count": null,
            "_view_module": "@jupyter-widgets/controls",
            "_view_module_version": "1.5.0",
            "_view_name": "HTMLView",
            "description": "",
            "description_tooltip": null,
            "layout": "IPY_MODEL_82147c6d07f34630a4dfe36665fdfbd9",
            "placeholder": "​",
            "style": "IPY_MODEL_a1156ace8436423fbdc39fd8cca0fcee",
            "value": "tokenizer_config.json: 100%"
          }
        },
        "d48bf386d7d24df79ed00d2496561c8a": {
          "model_module": "@jupyter-widgets/controls",
          "model_name": "FloatProgressModel",
          "model_module_version": "1.5.0",
          "state": {
            "_dom_classes": [],
            "_model_module": "@jupyter-widgets/controls",
            "_model_module_version": "1.5.0",
            "_model_name": "FloatProgressModel",
            "_view_count": null,
            "_view_module": "@jupyter-widgets/controls",
            "_view_module_version": "1.5.0",
            "_view_name": "ProgressView",
            "bar_style": "success",
            "description": "",
            "description_tooltip": null,
            "layout": "IPY_MODEL_3d14d69ceb16496092d55c413fcd5026",
            "max": 48,
            "min": 0,
            "orientation": "horizontal",
            "style": "IPY_MODEL_3a60b1a7e24a436c8920af271e0c1ad4",
            "value": 48
          }
        },
        "8a6d165bb8f24a10a166108fb7729bdb": {
          "model_module": "@jupyter-widgets/controls",
          "model_name": "HTMLModel",
          "model_module_version": "1.5.0",
          "state": {
            "_dom_classes": [],
            "_model_module": "@jupyter-widgets/controls",
            "_model_module_version": "1.5.0",
            "_model_name": "HTMLModel",
            "_view_count": null,
            "_view_module": "@jupyter-widgets/controls",
            "_view_module_version": "1.5.0",
            "_view_name": "HTMLView",
            "description": "",
            "description_tooltip": null,
            "layout": "IPY_MODEL_a79b7b8b1ffc4b4da04f583b3bc00655",
            "placeholder": "​",
            "style": "IPY_MODEL_7c3d75809b8140b6a8afd8f84b33f7fa",
            "value": " 48.0/48.0 [00:00&lt;00:00, 5.24kB/s]"
          }
        },
        "773082bd3b3d45898e65e32afaa35bef": {
          "model_module": "@jupyter-widgets/base",
          "model_name": "LayoutModel",
          "model_module_version": "1.2.0",
          "state": {
            "_model_module": "@jupyter-widgets/base",
            "_model_module_version": "1.2.0",
            "_model_name": "LayoutModel",
            "_view_count": null,
            "_view_module": "@jupyter-widgets/base",
            "_view_module_version": "1.2.0",
            "_view_name": "LayoutView",
            "align_content": null,
            "align_items": null,
            "align_self": null,
            "border": null,
            "bottom": null,
            "display": null,
            "flex": null,
            "flex_flow": null,
            "grid_area": null,
            "grid_auto_columns": null,
            "grid_auto_flow": null,
            "grid_auto_rows": null,
            "grid_column": null,
            "grid_gap": null,
            "grid_row": null,
            "grid_template_areas": null,
            "grid_template_columns": null,
            "grid_template_rows": null,
            "height": null,
            "justify_content": null,
            "justify_items": null,
            "left": null,
            "margin": null,
            "max_height": null,
            "max_width": null,
            "min_height": null,
            "min_width": null,
            "object_fit": null,
            "object_position": null,
            "order": null,
            "overflow": null,
            "overflow_x": null,
            "overflow_y": null,
            "padding": null,
            "right": null,
            "top": null,
            "visibility": null,
            "width": null
          }
        },
        "82147c6d07f34630a4dfe36665fdfbd9": {
          "model_module": "@jupyter-widgets/base",
          "model_name": "LayoutModel",
          "model_module_version": "1.2.0",
          "state": {
            "_model_module": "@jupyter-widgets/base",
            "_model_module_version": "1.2.0",
            "_model_name": "LayoutModel",
            "_view_count": null,
            "_view_module": "@jupyter-widgets/base",
            "_view_module_version": "1.2.0",
            "_view_name": "LayoutView",
            "align_content": null,
            "align_items": null,
            "align_self": null,
            "border": null,
            "bottom": null,
            "display": null,
            "flex": null,
            "flex_flow": null,
            "grid_area": null,
            "grid_auto_columns": null,
            "grid_auto_flow": null,
            "grid_auto_rows": null,
            "grid_column": null,
            "grid_gap": null,
            "grid_row": null,
            "grid_template_areas": null,
            "grid_template_columns": null,
            "grid_template_rows": null,
            "height": null,
            "justify_content": null,
            "justify_items": null,
            "left": null,
            "margin": null,
            "max_height": null,
            "max_width": null,
            "min_height": null,
            "min_width": null,
            "object_fit": null,
            "object_position": null,
            "order": null,
            "overflow": null,
            "overflow_x": null,
            "overflow_y": null,
            "padding": null,
            "right": null,
            "top": null,
            "visibility": null,
            "width": null
          }
        },
        "a1156ace8436423fbdc39fd8cca0fcee": {
          "model_module": "@jupyter-widgets/controls",
          "model_name": "DescriptionStyleModel",
          "model_module_version": "1.5.0",
          "state": {
            "_model_module": "@jupyter-widgets/controls",
            "_model_module_version": "1.5.0",
            "_model_name": "DescriptionStyleModel",
            "_view_count": null,
            "_view_module": "@jupyter-widgets/base",
            "_view_module_version": "1.2.0",
            "_view_name": "StyleView",
            "description_width": ""
          }
        },
        "3d14d69ceb16496092d55c413fcd5026": {
          "model_module": "@jupyter-widgets/base",
          "model_name": "LayoutModel",
          "model_module_version": "1.2.0",
          "state": {
            "_model_module": "@jupyter-widgets/base",
            "_model_module_version": "1.2.0",
            "_model_name": "LayoutModel",
            "_view_count": null,
            "_view_module": "@jupyter-widgets/base",
            "_view_module_version": "1.2.0",
            "_view_name": "LayoutView",
            "align_content": null,
            "align_items": null,
            "align_self": null,
            "border": null,
            "bottom": null,
            "display": null,
            "flex": null,
            "flex_flow": null,
            "grid_area": null,
            "grid_auto_columns": null,
            "grid_auto_flow": null,
            "grid_auto_rows": null,
            "grid_column": null,
            "grid_gap": null,
            "grid_row": null,
            "grid_template_areas": null,
            "grid_template_columns": null,
            "grid_template_rows": null,
            "height": null,
            "justify_content": null,
            "justify_items": null,
            "left": null,
            "margin": null,
            "max_height": null,
            "max_width": null,
            "min_height": null,
            "min_width": null,
            "object_fit": null,
            "object_position": null,
            "order": null,
            "overflow": null,
            "overflow_x": null,
            "overflow_y": null,
            "padding": null,
            "right": null,
            "top": null,
            "visibility": null,
            "width": null
          }
        },
        "3a60b1a7e24a436c8920af271e0c1ad4": {
          "model_module": "@jupyter-widgets/controls",
          "model_name": "ProgressStyleModel",
          "model_module_version": "1.5.0",
          "state": {
            "_model_module": "@jupyter-widgets/controls",
            "_model_module_version": "1.5.0",
            "_model_name": "ProgressStyleModel",
            "_view_count": null,
            "_view_module": "@jupyter-widgets/base",
            "_view_module_version": "1.2.0",
            "_view_name": "StyleView",
            "bar_color": null,
            "description_width": ""
          }
        },
        "a79b7b8b1ffc4b4da04f583b3bc00655": {
          "model_module": "@jupyter-widgets/base",
          "model_name": "LayoutModel",
          "model_module_version": "1.2.0",
          "state": {
            "_model_module": "@jupyter-widgets/base",
            "_model_module_version": "1.2.0",
            "_model_name": "LayoutModel",
            "_view_count": null,
            "_view_module": "@jupyter-widgets/base",
            "_view_module_version": "1.2.0",
            "_view_name": "LayoutView",
            "align_content": null,
            "align_items": null,
            "align_self": null,
            "border": null,
            "bottom": null,
            "display": null,
            "flex": null,
            "flex_flow": null,
            "grid_area": null,
            "grid_auto_columns": null,
            "grid_auto_flow": null,
            "grid_auto_rows": null,
            "grid_column": null,
            "grid_gap": null,
            "grid_row": null,
            "grid_template_areas": null,
            "grid_template_columns": null,
            "grid_template_rows": null,
            "height": null,
            "justify_content": null,
            "justify_items": null,
            "left": null,
            "margin": null,
            "max_height": null,
            "max_width": null,
            "min_height": null,
            "min_width": null,
            "object_fit": null,
            "object_position": null,
            "order": null,
            "overflow": null,
            "overflow_x": null,
            "overflow_y": null,
            "padding": null,
            "right": null,
            "top": null,
            "visibility": null,
            "width": null
          }
        },
        "7c3d75809b8140b6a8afd8f84b33f7fa": {
          "model_module": "@jupyter-widgets/controls",
          "model_name": "DescriptionStyleModel",
          "model_module_version": "1.5.0",
          "state": {
            "_model_module": "@jupyter-widgets/controls",
            "_model_module_version": "1.5.0",
            "_model_name": "DescriptionStyleModel",
            "_view_count": null,
            "_view_module": "@jupyter-widgets/base",
            "_view_module_version": "1.2.0",
            "_view_name": "StyleView",
            "description_width": ""
          }
        },
        "32664ff3bde34c1f806e8a20d7971ebc": {
          "model_module": "@jupyter-widgets/controls",
          "model_name": "HBoxModel",
          "model_module_version": "1.5.0",
          "state": {
            "_dom_classes": [],
            "_model_module": "@jupyter-widgets/controls",
            "_model_module_version": "1.5.0",
            "_model_name": "HBoxModel",
            "_view_count": null,
            "_view_module": "@jupyter-widgets/controls",
            "_view_module_version": "1.5.0",
            "_view_name": "HBoxView",
            "box_style": "",
            "children": [
              "IPY_MODEL_62c12087394c4f6e980473977129217f",
              "IPY_MODEL_67d9db840eb84a2db07d887e80209fdf",
              "IPY_MODEL_c4d1edca0bfd48d1a77591cf4c46cca1"
            ],
            "layout": "IPY_MODEL_4ba58d30d94743499a0f82fd814dc2f8"
          }
        },
        "62c12087394c4f6e980473977129217f": {
          "model_module": "@jupyter-widgets/controls",
          "model_name": "HTMLModel",
          "model_module_version": "1.5.0",
          "state": {
            "_dom_classes": [],
            "_model_module": "@jupyter-widgets/controls",
            "_model_module_version": "1.5.0",
            "_model_name": "HTMLModel",
            "_view_count": null,
            "_view_module": "@jupyter-widgets/controls",
            "_view_module_version": "1.5.0",
            "_view_name": "HTMLView",
            "description": "",
            "description_tooltip": null,
            "layout": "IPY_MODEL_dffaffe7bf7c422b9a77fc2d2ac4e69e",
            "placeholder": "​",
            "style": "IPY_MODEL_dd3db7d45643487cbf69cee8c040020d",
            "value": "vocab.txt: 100%"
          }
        },
        "67d9db840eb84a2db07d887e80209fdf": {
          "model_module": "@jupyter-widgets/controls",
          "model_name": "FloatProgressModel",
          "model_module_version": "1.5.0",
          "state": {
            "_dom_classes": [],
            "_model_module": "@jupyter-widgets/controls",
            "_model_module_version": "1.5.0",
            "_model_name": "FloatProgressModel",
            "_view_count": null,
            "_view_module": "@jupyter-widgets/controls",
            "_view_module_version": "1.5.0",
            "_view_name": "ProgressView",
            "bar_style": "success",
            "description": "",
            "description_tooltip": null,
            "layout": "IPY_MODEL_53770119fb8b449a8211e3dfa2594b0d",
            "max": 231508,
            "min": 0,
            "orientation": "horizontal",
            "style": "IPY_MODEL_b40c6cfcc0444857b42fbfd44f84ec27",
            "value": 231508
          }
        },
        "c4d1edca0bfd48d1a77591cf4c46cca1": {
          "model_module": "@jupyter-widgets/controls",
          "model_name": "HTMLModel",
          "model_module_version": "1.5.0",
          "state": {
            "_dom_classes": [],
            "_model_module": "@jupyter-widgets/controls",
            "_model_module_version": "1.5.0",
            "_model_name": "HTMLModel",
            "_view_count": null,
            "_view_module": "@jupyter-widgets/controls",
            "_view_module_version": "1.5.0",
            "_view_name": "HTMLView",
            "description": "",
            "description_tooltip": null,
            "layout": "IPY_MODEL_ec553dcebc004994bf5179ece20b476b",
            "placeholder": "​",
            "style": "IPY_MODEL_9eb25433d9a540eeaa9cc467b5e31d72",
            "value": " 232k/232k [00:00&lt;00:00, 1.85MB/s]"
          }
        },
        "4ba58d30d94743499a0f82fd814dc2f8": {
          "model_module": "@jupyter-widgets/base",
          "model_name": "LayoutModel",
          "model_module_version": "1.2.0",
          "state": {
            "_model_module": "@jupyter-widgets/base",
            "_model_module_version": "1.2.0",
            "_model_name": "LayoutModel",
            "_view_count": null,
            "_view_module": "@jupyter-widgets/base",
            "_view_module_version": "1.2.0",
            "_view_name": "LayoutView",
            "align_content": null,
            "align_items": null,
            "align_self": null,
            "border": null,
            "bottom": null,
            "display": null,
            "flex": null,
            "flex_flow": null,
            "grid_area": null,
            "grid_auto_columns": null,
            "grid_auto_flow": null,
            "grid_auto_rows": null,
            "grid_column": null,
            "grid_gap": null,
            "grid_row": null,
            "grid_template_areas": null,
            "grid_template_columns": null,
            "grid_template_rows": null,
            "height": null,
            "justify_content": null,
            "justify_items": null,
            "left": null,
            "margin": null,
            "max_height": null,
            "max_width": null,
            "min_height": null,
            "min_width": null,
            "object_fit": null,
            "object_position": null,
            "order": null,
            "overflow": null,
            "overflow_x": null,
            "overflow_y": null,
            "padding": null,
            "right": null,
            "top": null,
            "visibility": null,
            "width": null
          }
        },
        "dffaffe7bf7c422b9a77fc2d2ac4e69e": {
          "model_module": "@jupyter-widgets/base",
          "model_name": "LayoutModel",
          "model_module_version": "1.2.0",
          "state": {
            "_model_module": "@jupyter-widgets/base",
            "_model_module_version": "1.2.0",
            "_model_name": "LayoutModel",
            "_view_count": null,
            "_view_module": "@jupyter-widgets/base",
            "_view_module_version": "1.2.0",
            "_view_name": "LayoutView",
            "align_content": null,
            "align_items": null,
            "align_self": null,
            "border": null,
            "bottom": null,
            "display": null,
            "flex": null,
            "flex_flow": null,
            "grid_area": null,
            "grid_auto_columns": null,
            "grid_auto_flow": null,
            "grid_auto_rows": null,
            "grid_column": null,
            "grid_gap": null,
            "grid_row": null,
            "grid_template_areas": null,
            "grid_template_columns": null,
            "grid_template_rows": null,
            "height": null,
            "justify_content": null,
            "justify_items": null,
            "left": null,
            "margin": null,
            "max_height": null,
            "max_width": null,
            "min_height": null,
            "min_width": null,
            "object_fit": null,
            "object_position": null,
            "order": null,
            "overflow": null,
            "overflow_x": null,
            "overflow_y": null,
            "padding": null,
            "right": null,
            "top": null,
            "visibility": null,
            "width": null
          }
        },
        "dd3db7d45643487cbf69cee8c040020d": {
          "model_module": "@jupyter-widgets/controls",
          "model_name": "DescriptionStyleModel",
          "model_module_version": "1.5.0",
          "state": {
            "_model_module": "@jupyter-widgets/controls",
            "_model_module_version": "1.5.0",
            "_model_name": "DescriptionStyleModel",
            "_view_count": null,
            "_view_module": "@jupyter-widgets/base",
            "_view_module_version": "1.2.0",
            "_view_name": "StyleView",
            "description_width": ""
          }
        },
        "53770119fb8b449a8211e3dfa2594b0d": {
          "model_module": "@jupyter-widgets/base",
          "model_name": "LayoutModel",
          "model_module_version": "1.2.0",
          "state": {
            "_model_module": "@jupyter-widgets/base",
            "_model_module_version": "1.2.0",
            "_model_name": "LayoutModel",
            "_view_count": null,
            "_view_module": "@jupyter-widgets/base",
            "_view_module_version": "1.2.0",
            "_view_name": "LayoutView",
            "align_content": null,
            "align_items": null,
            "align_self": null,
            "border": null,
            "bottom": null,
            "display": null,
            "flex": null,
            "flex_flow": null,
            "grid_area": null,
            "grid_auto_columns": null,
            "grid_auto_flow": null,
            "grid_auto_rows": null,
            "grid_column": null,
            "grid_gap": null,
            "grid_row": null,
            "grid_template_areas": null,
            "grid_template_columns": null,
            "grid_template_rows": null,
            "height": null,
            "justify_content": null,
            "justify_items": null,
            "left": null,
            "margin": null,
            "max_height": null,
            "max_width": null,
            "min_height": null,
            "min_width": null,
            "object_fit": null,
            "object_position": null,
            "order": null,
            "overflow": null,
            "overflow_x": null,
            "overflow_y": null,
            "padding": null,
            "right": null,
            "top": null,
            "visibility": null,
            "width": null
          }
        },
        "b40c6cfcc0444857b42fbfd44f84ec27": {
          "model_module": "@jupyter-widgets/controls",
          "model_name": "ProgressStyleModel",
          "model_module_version": "1.5.0",
          "state": {
            "_model_module": "@jupyter-widgets/controls",
            "_model_module_version": "1.5.0",
            "_model_name": "ProgressStyleModel",
            "_view_count": null,
            "_view_module": "@jupyter-widgets/base",
            "_view_module_version": "1.2.0",
            "_view_name": "StyleView",
            "bar_color": null,
            "description_width": ""
          }
        },
        "ec553dcebc004994bf5179ece20b476b": {
          "model_module": "@jupyter-widgets/base",
          "model_name": "LayoutModel",
          "model_module_version": "1.2.0",
          "state": {
            "_model_module": "@jupyter-widgets/base",
            "_model_module_version": "1.2.0",
            "_model_name": "LayoutModel",
            "_view_count": null,
            "_view_module": "@jupyter-widgets/base",
            "_view_module_version": "1.2.0",
            "_view_name": "LayoutView",
            "align_content": null,
            "align_items": null,
            "align_self": null,
            "border": null,
            "bottom": null,
            "display": null,
            "flex": null,
            "flex_flow": null,
            "grid_area": null,
            "grid_auto_columns": null,
            "grid_auto_flow": null,
            "grid_auto_rows": null,
            "grid_column": null,
            "grid_gap": null,
            "grid_row": null,
            "grid_template_areas": null,
            "grid_template_columns": null,
            "grid_template_rows": null,
            "height": null,
            "justify_content": null,
            "justify_items": null,
            "left": null,
            "margin": null,
            "max_height": null,
            "max_width": null,
            "min_height": null,
            "min_width": null,
            "object_fit": null,
            "object_position": null,
            "order": null,
            "overflow": null,
            "overflow_x": null,
            "overflow_y": null,
            "padding": null,
            "right": null,
            "top": null,
            "visibility": null,
            "width": null
          }
        },
        "9eb25433d9a540eeaa9cc467b5e31d72": {
          "model_module": "@jupyter-widgets/controls",
          "model_name": "DescriptionStyleModel",
          "model_module_version": "1.5.0",
          "state": {
            "_model_module": "@jupyter-widgets/controls",
            "_model_module_version": "1.5.0",
            "_model_name": "DescriptionStyleModel",
            "_view_count": null,
            "_view_module": "@jupyter-widgets/base",
            "_view_module_version": "1.2.0",
            "_view_name": "StyleView",
            "description_width": ""
          }
        },
        "121c8258ee9946f381835b3ae04c9ce6": {
          "model_module": "@jupyter-widgets/controls",
          "model_name": "HBoxModel",
          "model_module_version": "1.5.0",
          "state": {
            "_dom_classes": [],
            "_model_module": "@jupyter-widgets/controls",
            "_model_module_version": "1.5.0",
            "_model_name": "HBoxModel",
            "_view_count": null,
            "_view_module": "@jupyter-widgets/controls",
            "_view_module_version": "1.5.0",
            "_view_name": "HBoxView",
            "box_style": "",
            "children": [
              "IPY_MODEL_ac8871ccafe549588157cb1844e8c5eb",
              "IPY_MODEL_aaff9a629dde4f04b031eab25e155fb1",
              "IPY_MODEL_e550dae69032454288de6f073613993d"
            ],
            "layout": "IPY_MODEL_0c4bf82c56fe4f429c90b192e0befde0"
          }
        },
        "ac8871ccafe549588157cb1844e8c5eb": {
          "model_module": "@jupyter-widgets/controls",
          "model_name": "HTMLModel",
          "model_module_version": "1.5.0",
          "state": {
            "_dom_classes": [],
            "_model_module": "@jupyter-widgets/controls",
            "_model_module_version": "1.5.0",
            "_model_name": "HTMLModel",
            "_view_count": null,
            "_view_module": "@jupyter-widgets/controls",
            "_view_module_version": "1.5.0",
            "_view_name": "HTMLView",
            "description": "",
            "description_tooltip": null,
            "layout": "IPY_MODEL_ca036326309e44e787c4d22e5da5803a",
            "placeholder": "​",
            "style": "IPY_MODEL_31f0132fc68e4b41a3de165f4408727c",
            "value": "tokenizer.json: 100%"
          }
        },
        "aaff9a629dde4f04b031eab25e155fb1": {
          "model_module": "@jupyter-widgets/controls",
          "model_name": "FloatProgressModel",
          "model_module_version": "1.5.0",
          "state": {
            "_dom_classes": [],
            "_model_module": "@jupyter-widgets/controls",
            "_model_module_version": "1.5.0",
            "_model_name": "FloatProgressModel",
            "_view_count": null,
            "_view_module": "@jupyter-widgets/controls",
            "_view_module_version": "1.5.0",
            "_view_name": "ProgressView",
            "bar_style": "success",
            "description": "",
            "description_tooltip": null,
            "layout": "IPY_MODEL_2c915f9686e04c499f9a488c496a79d2",
            "max": 466062,
            "min": 0,
            "orientation": "horizontal",
            "style": "IPY_MODEL_1f90e45aef7f42c5906f44245051cfbc",
            "value": 466062
          }
        },
        "e550dae69032454288de6f073613993d": {
          "model_module": "@jupyter-widgets/controls",
          "model_name": "HTMLModel",
          "model_module_version": "1.5.0",
          "state": {
            "_dom_classes": [],
            "_model_module": "@jupyter-widgets/controls",
            "_model_module_version": "1.5.0",
            "_model_name": "HTMLModel",
            "_view_count": null,
            "_view_module": "@jupyter-widgets/controls",
            "_view_module_version": "1.5.0",
            "_view_name": "HTMLView",
            "description": "",
            "description_tooltip": null,
            "layout": "IPY_MODEL_041b119902b44b57965388f14db702be",
            "placeholder": "​",
            "style": "IPY_MODEL_f7e217dc67f549829e2d0a22b009a39b",
            "value": " 466k/466k [00:00&lt;00:00, 3.63MB/s]"
          }
        },
        "0c4bf82c56fe4f429c90b192e0befde0": {
          "model_module": "@jupyter-widgets/base",
          "model_name": "LayoutModel",
          "model_module_version": "1.2.0",
          "state": {
            "_model_module": "@jupyter-widgets/base",
            "_model_module_version": "1.2.0",
            "_model_name": "LayoutModel",
            "_view_count": null,
            "_view_module": "@jupyter-widgets/base",
            "_view_module_version": "1.2.0",
            "_view_name": "LayoutView",
            "align_content": null,
            "align_items": null,
            "align_self": null,
            "border": null,
            "bottom": null,
            "display": null,
            "flex": null,
            "flex_flow": null,
            "grid_area": null,
            "grid_auto_columns": null,
            "grid_auto_flow": null,
            "grid_auto_rows": null,
            "grid_column": null,
            "grid_gap": null,
            "grid_row": null,
            "grid_template_areas": null,
            "grid_template_columns": null,
            "grid_template_rows": null,
            "height": null,
            "justify_content": null,
            "justify_items": null,
            "left": null,
            "margin": null,
            "max_height": null,
            "max_width": null,
            "min_height": null,
            "min_width": null,
            "object_fit": null,
            "object_position": null,
            "order": null,
            "overflow": null,
            "overflow_x": null,
            "overflow_y": null,
            "padding": null,
            "right": null,
            "top": null,
            "visibility": null,
            "width": null
          }
        },
        "ca036326309e44e787c4d22e5da5803a": {
          "model_module": "@jupyter-widgets/base",
          "model_name": "LayoutModel",
          "model_module_version": "1.2.0",
          "state": {
            "_model_module": "@jupyter-widgets/base",
            "_model_module_version": "1.2.0",
            "_model_name": "LayoutModel",
            "_view_count": null,
            "_view_module": "@jupyter-widgets/base",
            "_view_module_version": "1.2.0",
            "_view_name": "LayoutView",
            "align_content": null,
            "align_items": null,
            "align_self": null,
            "border": null,
            "bottom": null,
            "display": null,
            "flex": null,
            "flex_flow": null,
            "grid_area": null,
            "grid_auto_columns": null,
            "grid_auto_flow": null,
            "grid_auto_rows": null,
            "grid_column": null,
            "grid_gap": null,
            "grid_row": null,
            "grid_template_areas": null,
            "grid_template_columns": null,
            "grid_template_rows": null,
            "height": null,
            "justify_content": null,
            "justify_items": null,
            "left": null,
            "margin": null,
            "max_height": null,
            "max_width": null,
            "min_height": null,
            "min_width": null,
            "object_fit": null,
            "object_position": null,
            "order": null,
            "overflow": null,
            "overflow_x": null,
            "overflow_y": null,
            "padding": null,
            "right": null,
            "top": null,
            "visibility": null,
            "width": null
          }
        },
        "31f0132fc68e4b41a3de165f4408727c": {
          "model_module": "@jupyter-widgets/controls",
          "model_name": "DescriptionStyleModel",
          "model_module_version": "1.5.0",
          "state": {
            "_model_module": "@jupyter-widgets/controls",
            "_model_module_version": "1.5.0",
            "_model_name": "DescriptionStyleModel",
            "_view_count": null,
            "_view_module": "@jupyter-widgets/base",
            "_view_module_version": "1.2.0",
            "_view_name": "StyleView",
            "description_width": ""
          }
        },
        "2c915f9686e04c499f9a488c496a79d2": {
          "model_module": "@jupyter-widgets/base",
          "model_name": "LayoutModel",
          "model_module_version": "1.2.0",
          "state": {
            "_model_module": "@jupyter-widgets/base",
            "_model_module_version": "1.2.0",
            "_model_name": "LayoutModel",
            "_view_count": null,
            "_view_module": "@jupyter-widgets/base",
            "_view_module_version": "1.2.0",
            "_view_name": "LayoutView",
            "align_content": null,
            "align_items": null,
            "align_self": null,
            "border": null,
            "bottom": null,
            "display": null,
            "flex": null,
            "flex_flow": null,
            "grid_area": null,
            "grid_auto_columns": null,
            "grid_auto_flow": null,
            "grid_auto_rows": null,
            "grid_column": null,
            "grid_gap": null,
            "grid_row": null,
            "grid_template_areas": null,
            "grid_template_columns": null,
            "grid_template_rows": null,
            "height": null,
            "justify_content": null,
            "justify_items": null,
            "left": null,
            "margin": null,
            "max_height": null,
            "max_width": null,
            "min_height": null,
            "min_width": null,
            "object_fit": null,
            "object_position": null,
            "order": null,
            "overflow": null,
            "overflow_x": null,
            "overflow_y": null,
            "padding": null,
            "right": null,
            "top": null,
            "visibility": null,
            "width": null
          }
        },
        "1f90e45aef7f42c5906f44245051cfbc": {
          "model_module": "@jupyter-widgets/controls",
          "model_name": "ProgressStyleModel",
          "model_module_version": "1.5.0",
          "state": {
            "_model_module": "@jupyter-widgets/controls",
            "_model_module_version": "1.5.0",
            "_model_name": "ProgressStyleModel",
            "_view_count": null,
            "_view_module": "@jupyter-widgets/base",
            "_view_module_version": "1.2.0",
            "_view_name": "StyleView",
            "bar_color": null,
            "description_width": ""
          }
        },
        "041b119902b44b57965388f14db702be": {
          "model_module": "@jupyter-widgets/base",
          "model_name": "LayoutModel",
          "model_module_version": "1.2.0",
          "state": {
            "_model_module": "@jupyter-widgets/base",
            "_model_module_version": "1.2.0",
            "_model_name": "LayoutModel",
            "_view_count": null,
            "_view_module": "@jupyter-widgets/base",
            "_view_module_version": "1.2.0",
            "_view_name": "LayoutView",
            "align_content": null,
            "align_items": null,
            "align_self": null,
            "border": null,
            "bottom": null,
            "display": null,
            "flex": null,
            "flex_flow": null,
            "grid_area": null,
            "grid_auto_columns": null,
            "grid_auto_flow": null,
            "grid_auto_rows": null,
            "grid_column": null,
            "grid_gap": null,
            "grid_row": null,
            "grid_template_areas": null,
            "grid_template_columns": null,
            "grid_template_rows": null,
            "height": null,
            "justify_content": null,
            "justify_items": null,
            "left": null,
            "margin": null,
            "max_height": null,
            "max_width": null,
            "min_height": null,
            "min_width": null,
            "object_fit": null,
            "object_position": null,
            "order": null,
            "overflow": null,
            "overflow_x": null,
            "overflow_y": null,
            "padding": null,
            "right": null,
            "top": null,
            "visibility": null,
            "width": null
          }
        },
        "f7e217dc67f549829e2d0a22b009a39b": {
          "model_module": "@jupyter-widgets/controls",
          "model_name": "DescriptionStyleModel",
          "model_module_version": "1.5.0",
          "state": {
            "_model_module": "@jupyter-widgets/controls",
            "_model_module_version": "1.5.0",
            "_model_name": "DescriptionStyleModel",
            "_view_count": null,
            "_view_module": "@jupyter-widgets/base",
            "_view_module_version": "1.2.0",
            "_view_name": "StyleView",
            "description_width": ""
          }
        },
        "2e7075157f1643d7ad175f4f182046ef": {
          "model_module": "@jupyter-widgets/controls",
          "model_name": "HBoxModel",
          "model_module_version": "1.5.0",
          "state": {
            "_dom_classes": [],
            "_model_module": "@jupyter-widgets/controls",
            "_model_module_version": "1.5.0",
            "_model_name": "HBoxModel",
            "_view_count": null,
            "_view_module": "@jupyter-widgets/controls",
            "_view_module_version": "1.5.0",
            "_view_name": "HBoxView",
            "box_style": "",
            "children": [
              "IPY_MODEL_ed5ceafe34494cbfbf91d02bc760df16",
              "IPY_MODEL_7b6576b4ea2645fa95fa8d1983b18602",
              "IPY_MODEL_917b4da90d8a4c78bee8b2f3212ba5f4"
            ],
            "layout": "IPY_MODEL_e42098e571b14ac6b9c73a19eb77a63d"
          }
        },
        "ed5ceafe34494cbfbf91d02bc760df16": {
          "model_module": "@jupyter-widgets/controls",
          "model_name": "HTMLModel",
          "model_module_version": "1.5.0",
          "state": {
            "_dom_classes": [],
            "_model_module": "@jupyter-widgets/controls",
            "_model_module_version": "1.5.0",
            "_model_name": "HTMLModel",
            "_view_count": null,
            "_view_module": "@jupyter-widgets/controls",
            "_view_module_version": "1.5.0",
            "_view_name": "HTMLView",
            "description": "",
            "description_tooltip": null,
            "layout": "IPY_MODEL_73b453524550498f86569c991166fb4a",
            "placeholder": "​",
            "style": "IPY_MODEL_54ffc3b1cd8f4d83be0b4c2fbc91a34d",
            "value": "config.json: 100%"
          }
        },
        "7b6576b4ea2645fa95fa8d1983b18602": {
          "model_module": "@jupyter-widgets/controls",
          "model_name": "FloatProgressModel",
          "model_module_version": "1.5.0",
          "state": {
            "_dom_classes": [],
            "_model_module": "@jupyter-widgets/controls",
            "_model_module_version": "1.5.0",
            "_model_name": "FloatProgressModel",
            "_view_count": null,
            "_view_module": "@jupyter-widgets/controls",
            "_view_module_version": "1.5.0",
            "_view_name": "ProgressView",
            "bar_style": "success",
            "description": "",
            "description_tooltip": null,
            "layout": "IPY_MODEL_d47b033cfd964b9da9feceae75ba086f",
            "max": 570,
            "min": 0,
            "orientation": "horizontal",
            "style": "IPY_MODEL_1ded228c0e5f406abd269192597088b5",
            "value": 570
          }
        },
        "917b4da90d8a4c78bee8b2f3212ba5f4": {
          "model_module": "@jupyter-widgets/controls",
          "model_name": "HTMLModel",
          "model_module_version": "1.5.0",
          "state": {
            "_dom_classes": [],
            "_model_module": "@jupyter-widgets/controls",
            "_model_module_version": "1.5.0",
            "_model_name": "HTMLModel",
            "_view_count": null,
            "_view_module": "@jupyter-widgets/controls",
            "_view_module_version": "1.5.0",
            "_view_name": "HTMLView",
            "description": "",
            "description_tooltip": null,
            "layout": "IPY_MODEL_8dbe80cd63c040da91dc78acfdafa7e8",
            "placeholder": "​",
            "style": "IPY_MODEL_cddf82b245c94b71974ca9487afb7bfa",
            "value": " 570/570 [00:00&lt;00:00, 60.5kB/s]"
          }
        },
        "e42098e571b14ac6b9c73a19eb77a63d": {
          "model_module": "@jupyter-widgets/base",
          "model_name": "LayoutModel",
          "model_module_version": "1.2.0",
          "state": {
            "_model_module": "@jupyter-widgets/base",
            "_model_module_version": "1.2.0",
            "_model_name": "LayoutModel",
            "_view_count": null,
            "_view_module": "@jupyter-widgets/base",
            "_view_module_version": "1.2.0",
            "_view_name": "LayoutView",
            "align_content": null,
            "align_items": null,
            "align_self": null,
            "border": null,
            "bottom": null,
            "display": null,
            "flex": null,
            "flex_flow": null,
            "grid_area": null,
            "grid_auto_columns": null,
            "grid_auto_flow": null,
            "grid_auto_rows": null,
            "grid_column": null,
            "grid_gap": null,
            "grid_row": null,
            "grid_template_areas": null,
            "grid_template_columns": null,
            "grid_template_rows": null,
            "height": null,
            "justify_content": null,
            "justify_items": null,
            "left": null,
            "margin": null,
            "max_height": null,
            "max_width": null,
            "min_height": null,
            "min_width": null,
            "object_fit": null,
            "object_position": null,
            "order": null,
            "overflow": null,
            "overflow_x": null,
            "overflow_y": null,
            "padding": null,
            "right": null,
            "top": null,
            "visibility": null,
            "width": null
          }
        },
        "73b453524550498f86569c991166fb4a": {
          "model_module": "@jupyter-widgets/base",
          "model_name": "LayoutModel",
          "model_module_version": "1.2.0",
          "state": {
            "_model_module": "@jupyter-widgets/base",
            "_model_module_version": "1.2.0",
            "_model_name": "LayoutModel",
            "_view_count": null,
            "_view_module": "@jupyter-widgets/base",
            "_view_module_version": "1.2.0",
            "_view_name": "LayoutView",
            "align_content": null,
            "align_items": null,
            "align_self": null,
            "border": null,
            "bottom": null,
            "display": null,
            "flex": null,
            "flex_flow": null,
            "grid_area": null,
            "grid_auto_columns": null,
            "grid_auto_flow": null,
            "grid_auto_rows": null,
            "grid_column": null,
            "grid_gap": null,
            "grid_row": null,
            "grid_template_areas": null,
            "grid_template_columns": null,
            "grid_template_rows": null,
            "height": null,
            "justify_content": null,
            "justify_items": null,
            "left": null,
            "margin": null,
            "max_height": null,
            "max_width": null,
            "min_height": null,
            "min_width": null,
            "object_fit": null,
            "object_position": null,
            "order": null,
            "overflow": null,
            "overflow_x": null,
            "overflow_y": null,
            "padding": null,
            "right": null,
            "top": null,
            "visibility": null,
            "width": null
          }
        },
        "54ffc3b1cd8f4d83be0b4c2fbc91a34d": {
          "model_module": "@jupyter-widgets/controls",
          "model_name": "DescriptionStyleModel",
          "model_module_version": "1.5.0",
          "state": {
            "_model_module": "@jupyter-widgets/controls",
            "_model_module_version": "1.5.0",
            "_model_name": "DescriptionStyleModel",
            "_view_count": null,
            "_view_module": "@jupyter-widgets/base",
            "_view_module_version": "1.2.0",
            "_view_name": "StyleView",
            "description_width": ""
          }
        },
        "d47b033cfd964b9da9feceae75ba086f": {
          "model_module": "@jupyter-widgets/base",
          "model_name": "LayoutModel",
          "model_module_version": "1.2.0",
          "state": {
            "_model_module": "@jupyter-widgets/base",
            "_model_module_version": "1.2.0",
            "_model_name": "LayoutModel",
            "_view_count": null,
            "_view_module": "@jupyter-widgets/base",
            "_view_module_version": "1.2.0",
            "_view_name": "LayoutView",
            "align_content": null,
            "align_items": null,
            "align_self": null,
            "border": null,
            "bottom": null,
            "display": null,
            "flex": null,
            "flex_flow": null,
            "grid_area": null,
            "grid_auto_columns": null,
            "grid_auto_flow": null,
            "grid_auto_rows": null,
            "grid_column": null,
            "grid_gap": null,
            "grid_row": null,
            "grid_template_areas": null,
            "grid_template_columns": null,
            "grid_template_rows": null,
            "height": null,
            "justify_content": null,
            "justify_items": null,
            "left": null,
            "margin": null,
            "max_height": null,
            "max_width": null,
            "min_height": null,
            "min_width": null,
            "object_fit": null,
            "object_position": null,
            "order": null,
            "overflow": null,
            "overflow_x": null,
            "overflow_y": null,
            "padding": null,
            "right": null,
            "top": null,
            "visibility": null,
            "width": null
          }
        },
        "1ded228c0e5f406abd269192597088b5": {
          "model_module": "@jupyter-widgets/controls",
          "model_name": "ProgressStyleModel",
          "model_module_version": "1.5.0",
          "state": {
            "_model_module": "@jupyter-widgets/controls",
            "_model_module_version": "1.5.0",
            "_model_name": "ProgressStyleModel",
            "_view_count": null,
            "_view_module": "@jupyter-widgets/base",
            "_view_module_version": "1.2.0",
            "_view_name": "StyleView",
            "bar_color": null,
            "description_width": ""
          }
        },
        "8dbe80cd63c040da91dc78acfdafa7e8": {
          "model_module": "@jupyter-widgets/base",
          "model_name": "LayoutModel",
          "model_module_version": "1.2.0",
          "state": {
            "_model_module": "@jupyter-widgets/base",
            "_model_module_version": "1.2.0",
            "_model_name": "LayoutModel",
            "_view_count": null,
            "_view_module": "@jupyter-widgets/base",
            "_view_module_version": "1.2.0",
            "_view_name": "LayoutView",
            "align_content": null,
            "align_items": null,
            "align_self": null,
            "border": null,
            "bottom": null,
            "display": null,
            "flex": null,
            "flex_flow": null,
            "grid_area": null,
            "grid_auto_columns": null,
            "grid_auto_flow": null,
            "grid_auto_rows": null,
            "grid_column": null,
            "grid_gap": null,
            "grid_row": null,
            "grid_template_areas": null,
            "grid_template_columns": null,
            "grid_template_rows": null,
            "height": null,
            "justify_content": null,
            "justify_items": null,
            "left": null,
            "margin": null,
            "max_height": null,
            "max_width": null,
            "min_height": null,
            "min_width": null,
            "object_fit": null,
            "object_position": null,
            "order": null,
            "overflow": null,
            "overflow_x": null,
            "overflow_y": null,
            "padding": null,
            "right": null,
            "top": null,
            "visibility": null,
            "width": null
          }
        },
        "cddf82b245c94b71974ca9487afb7bfa": {
          "model_module": "@jupyter-widgets/controls",
          "model_name": "DescriptionStyleModel",
          "model_module_version": "1.5.0",
          "state": {
            "_model_module": "@jupyter-widgets/controls",
            "_model_module_version": "1.5.0",
            "_model_name": "DescriptionStyleModel",
            "_view_count": null,
            "_view_module": "@jupyter-widgets/base",
            "_view_module_version": "1.2.0",
            "_view_name": "StyleView",
            "description_width": ""
          }
        },
        "3f9dc76b4044404fbcacbb0ce2a1c770": {
          "model_module": "@jupyter-widgets/controls",
          "model_name": "HBoxModel",
          "model_module_version": "1.5.0",
          "state": {
            "_dom_classes": [],
            "_model_module": "@jupyter-widgets/controls",
            "_model_module_version": "1.5.0",
            "_model_name": "HBoxModel",
            "_view_count": null,
            "_view_module": "@jupyter-widgets/controls",
            "_view_module_version": "1.5.0",
            "_view_name": "HBoxView",
            "box_style": "",
            "children": [
              "IPY_MODEL_82e3544080d54734acbf9840cdf34e11",
              "IPY_MODEL_8d599ad142834e0087f236a40f7a8319",
              "IPY_MODEL_5076dee29fe349578bdbe13dc03d753e"
            ],
            "layout": "IPY_MODEL_a91b8562940b483f9492e6f63534b635"
          }
        },
        "82e3544080d54734acbf9840cdf34e11": {
          "model_module": "@jupyter-widgets/controls",
          "model_name": "HTMLModel",
          "model_module_version": "1.5.0",
          "state": {
            "_dom_classes": [],
            "_model_module": "@jupyter-widgets/controls",
            "_model_module_version": "1.5.0",
            "_model_name": "HTMLModel",
            "_view_count": null,
            "_view_module": "@jupyter-widgets/controls",
            "_view_module_version": "1.5.0",
            "_view_name": "HTMLView",
            "description": "",
            "description_tooltip": null,
            "layout": "IPY_MODEL_1b75c8a2fa5f488bb0e96906e256f66c",
            "placeholder": "​",
            "style": "IPY_MODEL_99197f6d9dd945e8baa34e97687afa4e",
            "value": "model.safetensors: 100%"
          }
        },
        "8d599ad142834e0087f236a40f7a8319": {
          "model_module": "@jupyter-widgets/controls",
          "model_name": "FloatProgressModel",
          "model_module_version": "1.5.0",
          "state": {
            "_dom_classes": [],
            "_model_module": "@jupyter-widgets/controls",
            "_model_module_version": "1.5.0",
            "_model_name": "FloatProgressModel",
            "_view_count": null,
            "_view_module": "@jupyter-widgets/controls",
            "_view_module_version": "1.5.0",
            "_view_name": "ProgressView",
            "bar_style": "success",
            "description": "",
            "description_tooltip": null,
            "layout": "IPY_MODEL_934cc6ff4ed74152941298b037d35450",
            "max": 440449768,
            "min": 0,
            "orientation": "horizontal",
            "style": "IPY_MODEL_4de816f057e04679b5fe4094c0c011ef",
            "value": 440449768
          }
        },
        "5076dee29fe349578bdbe13dc03d753e": {
          "model_module": "@jupyter-widgets/controls",
          "model_name": "HTMLModel",
          "model_module_version": "1.5.0",
          "state": {
            "_dom_classes": [],
            "_model_module": "@jupyter-widgets/controls",
            "_model_module_version": "1.5.0",
            "_model_name": "HTMLModel",
            "_view_count": null,
            "_view_module": "@jupyter-widgets/controls",
            "_view_module_version": "1.5.0",
            "_view_name": "HTMLView",
            "description": "",
            "description_tooltip": null,
            "layout": "IPY_MODEL_c2ff60356bad4385865ca103bc6333e4",
            "placeholder": "​",
            "style": "IPY_MODEL_8fceaa0916924c2a98117db78f1ff11f",
            "value": " 440M/440M [00:01&lt;00:00, 312MB/s]"
          }
        },
        "a91b8562940b483f9492e6f63534b635": {
          "model_module": "@jupyter-widgets/base",
          "model_name": "LayoutModel",
          "model_module_version": "1.2.0",
          "state": {
            "_model_module": "@jupyter-widgets/base",
            "_model_module_version": "1.2.0",
            "_model_name": "LayoutModel",
            "_view_count": null,
            "_view_module": "@jupyter-widgets/base",
            "_view_module_version": "1.2.0",
            "_view_name": "LayoutView",
            "align_content": null,
            "align_items": null,
            "align_self": null,
            "border": null,
            "bottom": null,
            "display": null,
            "flex": null,
            "flex_flow": null,
            "grid_area": null,
            "grid_auto_columns": null,
            "grid_auto_flow": null,
            "grid_auto_rows": null,
            "grid_column": null,
            "grid_gap": null,
            "grid_row": null,
            "grid_template_areas": null,
            "grid_template_columns": null,
            "grid_template_rows": null,
            "height": null,
            "justify_content": null,
            "justify_items": null,
            "left": null,
            "margin": null,
            "max_height": null,
            "max_width": null,
            "min_height": null,
            "min_width": null,
            "object_fit": null,
            "object_position": null,
            "order": null,
            "overflow": null,
            "overflow_x": null,
            "overflow_y": null,
            "padding": null,
            "right": null,
            "top": null,
            "visibility": null,
            "width": null
          }
        },
        "1b75c8a2fa5f488bb0e96906e256f66c": {
          "model_module": "@jupyter-widgets/base",
          "model_name": "LayoutModel",
          "model_module_version": "1.2.0",
          "state": {
            "_model_module": "@jupyter-widgets/base",
            "_model_module_version": "1.2.0",
            "_model_name": "LayoutModel",
            "_view_count": null,
            "_view_module": "@jupyter-widgets/base",
            "_view_module_version": "1.2.0",
            "_view_name": "LayoutView",
            "align_content": null,
            "align_items": null,
            "align_self": null,
            "border": null,
            "bottom": null,
            "display": null,
            "flex": null,
            "flex_flow": null,
            "grid_area": null,
            "grid_auto_columns": null,
            "grid_auto_flow": null,
            "grid_auto_rows": null,
            "grid_column": null,
            "grid_gap": null,
            "grid_row": null,
            "grid_template_areas": null,
            "grid_template_columns": null,
            "grid_template_rows": null,
            "height": null,
            "justify_content": null,
            "justify_items": null,
            "left": null,
            "margin": null,
            "max_height": null,
            "max_width": null,
            "min_height": null,
            "min_width": null,
            "object_fit": null,
            "object_position": null,
            "order": null,
            "overflow": null,
            "overflow_x": null,
            "overflow_y": null,
            "padding": null,
            "right": null,
            "top": null,
            "visibility": null,
            "width": null
          }
        },
        "99197f6d9dd945e8baa34e97687afa4e": {
          "model_module": "@jupyter-widgets/controls",
          "model_name": "DescriptionStyleModel",
          "model_module_version": "1.5.0",
          "state": {
            "_model_module": "@jupyter-widgets/controls",
            "_model_module_version": "1.5.0",
            "_model_name": "DescriptionStyleModel",
            "_view_count": null,
            "_view_module": "@jupyter-widgets/base",
            "_view_module_version": "1.2.0",
            "_view_name": "StyleView",
            "description_width": ""
          }
        },
        "934cc6ff4ed74152941298b037d35450": {
          "model_module": "@jupyter-widgets/base",
          "model_name": "LayoutModel",
          "model_module_version": "1.2.0",
          "state": {
            "_model_module": "@jupyter-widgets/base",
            "_model_module_version": "1.2.0",
            "_model_name": "LayoutModel",
            "_view_count": null,
            "_view_module": "@jupyter-widgets/base",
            "_view_module_version": "1.2.0",
            "_view_name": "LayoutView",
            "align_content": null,
            "align_items": null,
            "align_self": null,
            "border": null,
            "bottom": null,
            "display": null,
            "flex": null,
            "flex_flow": null,
            "grid_area": null,
            "grid_auto_columns": null,
            "grid_auto_flow": null,
            "grid_auto_rows": null,
            "grid_column": null,
            "grid_gap": null,
            "grid_row": null,
            "grid_template_areas": null,
            "grid_template_columns": null,
            "grid_template_rows": null,
            "height": null,
            "justify_content": null,
            "justify_items": null,
            "left": null,
            "margin": null,
            "max_height": null,
            "max_width": null,
            "min_height": null,
            "min_width": null,
            "object_fit": null,
            "object_position": null,
            "order": null,
            "overflow": null,
            "overflow_x": null,
            "overflow_y": null,
            "padding": null,
            "right": null,
            "top": null,
            "visibility": null,
            "width": null
          }
        },
        "4de816f057e04679b5fe4094c0c011ef": {
          "model_module": "@jupyter-widgets/controls",
          "model_name": "ProgressStyleModel",
          "model_module_version": "1.5.0",
          "state": {
            "_model_module": "@jupyter-widgets/controls",
            "_model_module_version": "1.5.0",
            "_model_name": "ProgressStyleModel",
            "_view_count": null,
            "_view_module": "@jupyter-widgets/base",
            "_view_module_version": "1.2.0",
            "_view_name": "StyleView",
            "bar_color": null,
            "description_width": ""
          }
        },
        "c2ff60356bad4385865ca103bc6333e4": {
          "model_module": "@jupyter-widgets/base",
          "model_name": "LayoutModel",
          "model_module_version": "1.2.0",
          "state": {
            "_model_module": "@jupyter-widgets/base",
            "_model_module_version": "1.2.0",
            "_model_name": "LayoutModel",
            "_view_count": null,
            "_view_module": "@jupyter-widgets/base",
            "_view_module_version": "1.2.0",
            "_view_name": "LayoutView",
            "align_content": null,
            "align_items": null,
            "align_self": null,
            "border": null,
            "bottom": null,
            "display": null,
            "flex": null,
            "flex_flow": null,
            "grid_area": null,
            "grid_auto_columns": null,
            "grid_auto_flow": null,
            "grid_auto_rows": null,
            "grid_column": null,
            "grid_gap": null,
            "grid_row": null,
            "grid_template_areas": null,
            "grid_template_columns": null,
            "grid_template_rows": null,
            "height": null,
            "justify_content": null,
            "justify_items": null,
            "left": null,
            "margin": null,
            "max_height": null,
            "max_width": null,
            "min_height": null,
            "min_width": null,
            "object_fit": null,
            "object_position": null,
            "order": null,
            "overflow": null,
            "overflow_x": null,
            "overflow_y": null,
            "padding": null,
            "right": null,
            "top": null,
            "visibility": null,
            "width": null
          }
        },
        "8fceaa0916924c2a98117db78f1ff11f": {
          "model_module": "@jupyter-widgets/controls",
          "model_name": "DescriptionStyleModel",
          "model_module_version": "1.5.0",
          "state": {
            "_model_module": "@jupyter-widgets/controls",
            "_model_module_version": "1.5.0",
            "_model_name": "DescriptionStyleModel",
            "_view_count": null,
            "_view_module": "@jupyter-widgets/base",
            "_view_module_version": "1.2.0",
            "_view_name": "StyleView",
            "description_width": ""
          }
        }
      }
    }
  },
  "cells": [
    {
      "cell_type": "markdown",
      "source": [
        "# Load and Inspect Data"
      ],
      "metadata": {
        "id": "3jAbMW5Kp5mB"
      }
    },
    {
      "cell_type": "code",
      "execution_count": 1,
      "metadata": {
        "colab": {
          "base_uri": "https://localhost:8080/"
        },
        "id": "_GwmmhRFjWOd",
        "outputId": "4feb027b-4106-4d05-e69e-fb5daa28ad0a",
        "collapsed": true
      },
      "outputs": [
        {
          "output_type": "stream",
          "name": "stdout",
          "text": [
            "Dataset shape: (8675, 2)\n",
            "\n",
            "Unique MBTI Types:\n",
            " ['INFJ' 'ENTP' 'INTP' 'INTJ' 'ENTJ' 'ENFJ' 'INFP' 'ENFP' 'ISFP' 'ISTP'\n",
            " 'ISFJ' 'ISTJ' 'ESTP' 'ESFP' 'ESTJ' 'ESFJ']\n"
          ]
        }
      ],
      "source": [
        "import pandas as pd\n",
        "\n",
        "# Load the dataset from GitHub\n",
        "csv_url = \"https://raw.githubusercontent.com/xyzesther/decoding_digital_personas/main/data/mbti_1.csv\"\n",
        "df = pd.read_csv(csv_url)\n",
        "\n",
        "print(f\"Dataset shape: {df.shape}\\n\")\n",
        "\n",
        "df.head()\n",
        "\n",
        "# Remove missing values and reset index\n",
        "df = df.dropna().reset_index(drop=True)\n",
        "\n",
        "# Display unique MBTI types\n",
        "print(\"Unique MBTI Types:\\n\", df['type'].unique())"
      ]
    },
    {
      "cell_type": "markdown",
      "source": [
        "### Distribution of the data"
      ],
      "metadata": {
        "id": "LXshlF1L5Oro"
      }
    },
    {
      "cell_type": "code",
      "source": [
        "import matplotlib.pyplot as plt\n",
        "import seaborn as sns\n",
        "\n",
        "# Plot the distribution of MBTI types\n",
        "mbti_dict = df['type'].value_counts().to_dict()\n",
        "mbti = list(mbti_dict.keys())\n",
        "vals = list(mbti_dict.values())\n",
        "\n",
        "sns.set_theme()\n",
        "fig, ax = plt.subplots(1, 1, figsize = (10,10))\n",
        "plt.pie(vals, labels = mbti, colors = plt.cm.Pastel2.colors)\n",
        "plt.show()"
      ],
      "metadata": {
        "colab": {
          "base_uri": "https://localhost:8080/",
          "height": 807
        },
        "id": "LUfFk6lT5YbK",
        "outputId": "3d0598f7-bd89-4902-b708-ed3e19c8a3f3"
      },
      "execution_count": 2,
      "outputs": [
        {
          "output_type": "display_data",
          "data": {
            "text/plain": [
              "<Figure size 1000x1000 with 1 Axes>"
            ],
            "image/png": "[encoded data removed]"
          },
          "metadata": {}
        }
      ]
    },
    {
      "cell_type": "markdown",
      "source": [
        "#### Distribution By MBTI Traits"
      ],
      "metadata": {
        "id": "AmTLiIiFXkdG"
      }
    },
    {
      "cell_type": "code",
      "source": [
        "# Convert MBTI labels into four binary features (E/I, S/N, T/F, J/P)\n",
        "def mbti_to_binary(mbti_type):\n",
        "    return [\n",
        "        1 if mbti_type[0] == 'E' else 0,\n",
        "        1 if mbti_type[1] == 'S' else 0,\n",
        "        1 if mbti_type[2] == 'T' else 0,\n",
        "        1 if mbti_type[3] == 'J' else 0\n",
        "    ]\n",
        "\n",
        "df[['I/E', 'N/S', 'F/T', 'P/J']] = df['type'].apply(lambda x: pd.Series(mbti_to_binary(x)))\n",
        "\n",
        "df.head()\n"
      ],
      "metadata": {
        "colab": {
          "base_uri": "https://localhost:8080/",
          "height": 206
        },
        "id": "l1em4TFuZYKy",
        "outputId": "91daa193-9a96-41f8-e6ad-13278c48dcc5"
      },
      "execution_count": 3,
      "outputs": [
        {
          "output_type": "execute_result",
          "data": {
            "text/plain": [
              "   type                                              posts  I/E  N/S  F/T  P/J\n",
              "0  INFJ  'http://www.youtube.com/watch?v=qsXHcwe3krw|||...    0    0    0    1\n",
              "1  ENTP  'I'm finding the lack of me in these posts ver...    1    0    1    0\n",
              "2  INTP  'Good one  _____   https://www.youtube.com/wat...    0    0    1    0\n",
              "3  INTJ  'Dear INTP,   I enjoyed our conversation the o...    0    0    1    1\n",
              "4  ENTJ  'You're fired.|||That's another silly misconce...    1    0    1    1"
            ],
            "text/html": [
              "\n",
              "  <div id=\"df-e9ce46dc-044e-4594-8689-e3552adccde7\" class=\"colab-df-container\">\n",
              "    <div>\n",
              "<style scoped>\n",
              "    .dataframe tbody tr th:only-of-type {\n",
              "        vertical-align: middle;\n",
              "    }\n",
              "\n",
              "    .dataframe tbody tr th {\n",
              "        vertical-align: top;\n",
              "    }\n",
              "\n",
              "    .dataframe thead th {\n",
              "        text-align: right;\n",
              "    }\n",
              "</style>\n",
              "<table border=\"1\" class=\"dataframe\">\n",
              "  <thead>\n",
              "    <tr style=\"text-align: right;\">\n",
              "      <th></th>\n",
              "      <th>type</th>\n",
              "      <th>posts</th>\n",
              "      <th>I/E</th>\n",
              "      <th>N/S</th>\n",
              "      <th>F/T</th>\n",
              "      <th>P/J</th>\n",
              "    </tr>\n",
              "  </thead>\n",
              "  <tbody>\n",
              "    <tr>\n",
              "      <th>0</th>\n",
              "      <td>INFJ</td>\n",
              "      <td>'http://www.youtube.com/watch?v=qsXHcwe3krw|||...</td>\n",
              "      <td>0</td>\n",
              "      <td>0</td>\n",
              "      <td>0</td>\n",
              "      <td>1</td>\n",
              "    </tr>\n",
              "    <tr>\n",
              "      <th>1</th>\n",
              "      <td>ENTP</td>\n",
              "      <td>'I'm finding the lack of me in these posts ver...</td>\n",
              "      <td>1</td>\n",
              "      <td>0</td>\n",
              "      <td>1</td>\n",
              "      <td>0</td>\n",
              "    </tr>\n",
              "    <tr>\n",
              "      <th>2</th>\n",
              "      <td>INTP</td>\n",
              "      <td>'Good one  _____   https://www.youtube.com/wat...</td>\n",
              "      <td>0</td>\n",
              "      <td>0</td>\n",
              "      <td>1</td>\n",
              "      <td>0</td>\n",
              "    </tr>\n",
              "    <tr>\n",
              "      <th>3</th>\n",
              "      <td>INTJ</td>\n",
              "      <td>'Dear INTP,   I enjoyed our conversation the o...</td>\n",
              "      <td>0</td>\n",
              "      <td>0</td>\n",
              "      <td>1</td>\n",
              "      <td>1</td>\n",
              "    </tr>\n",
              "    <tr>\n",
              "      <th>4</th>\n",
              "      <td>ENTJ</td>\n",
              "      <td>'You're fired.|||That's another silly misconce...</td>\n",
              "      <td>1</td>\n",
              "      <td>0</td>\n",
              "      <td>1</td>\n",
              "      <td>1</td>\n",
              "    </tr>\n",
              "  </tbody>\n",
              "</table>\n",
              "</div>\n",
              "    <div class=\"colab-df-buttons\">\n",
              "\n",
              "  <div class=\"colab-df-container\">\n",
              "    <button class=\"colab-df-convert\" onclick=\"convertToInteractive('df-e9ce46dc-044e-4594-8689-e3552adccde7')\"\n",
              "            title=\"Convert this dataframe to an interactive table.\"\n",
              "            style=\"display:none;\">\n",
              "\n",
              "  <svg xmlns=\"http://www.w3.org/2000/svg\" height=\"24px\" viewBox=\"0 -960 960 960\">\n",
              "    <path d=\"M120-120v-720h720v720H120Zm60-500h600v-160H180v160Zm220 220h160v-160H400v160Zm0 220h160v-160H400v160ZM180-400h160v-160H180v160Zm440 0h160v-160H620v160ZM180-180h160v-160H180v160Zm440 0h160v-160H620v160Z\"/>\n",
              "  </svg>\n",
              "    </button>\n",
              "\n",
              "  <style>\n",
              "    .colab-df-container {\n",
              "      display:flex;\n",
              "      gap: 12px;\n",
              "    }\n",
              "\n",
              "    .colab-df-convert {\n",
              "      background-color: #E8F0FE;\n",
              "      border: none;\n",
              "      border-radius: 50%;\n",
              "      cursor: pointer;\n",
              "      display: none;\n",
              "      fill: #1967D2;\n",
              "      height: 32px;\n",
              "      padding: 0 0 0 0;\n",
              "      width: 32px;\n",
              "    }\n",
              "\n",
              "    .colab-df-convert:hover {\n",
              "      background-color: #E2EBFA;\n",
              "      box-shadow: 0px 1px 2px rgba(60, 64, 67, 0.3), 0px 1px 3px 1px rgba(60, 64, 67, 0.15);\n",
              "      fill: #174EA6;\n",
              "    }\n",
              "\n",
              "    .colab-df-buttons div {\n",
              "      margin-bottom: 4px;\n",
              "    }\n",
              "\n",
              "    [theme=dark] .colab-df-convert {\n",
              "      background-color: #3B4455;\n",
              "      fill: #D2E3FC;\n",
              "    }\n",
              "\n",
              "    [theme=dark] .colab-df-convert:hover {\n",
              "      background-color: #434B5C;\n",
              "      box-shadow: 0px 1px 3px 1px rgba(0, 0, 0, 0.15);\n",
              "      filter: drop-shadow(0px 1px 2px rgba(0, 0, 0, 0.3));\n",
              "      fill: #FFFFFF;\n",
              "    }\n",
              "  </style>\n",
              "\n",
              "    <script>\n",
              "      const buttonEl =\n",
              "        document.querySelector('#df-e9ce46dc-044e-4594-8689-e3552adccde7 button.colab-df-convert');\n",
              "      buttonEl.style.display =\n",
              "        google.colab.kernel.accessAllowed ? 'block' : 'none';\n",
              "\n",
              "      async function convertToInteractive(key) {\n",
              "        const element = document.querySelector('#df-e9ce46dc-044e-4594-8689-e3552adccde7');\n",
              "        const dataTable =\n",
              "          await google.colab.kernel.invokeFunction('convertToInteractive',\n",
              "                                                    [key], {});\n",
              "        if (!dataTable) return;\n",
              "\n",
              "        const docLinkHtml = 'Like what you see? Visit the ' +\n",
              "          '<a target=\"_blank\" href=https://colab.research.google.com/notebooks/data_table.ipynb>data table notebook</a>'\n",
              "          + ' to learn more about interactive tables.';\n",
              "        element.innerHTML = '';\n",
              "        dataTable['output_type'] = 'display_data';\n",
              "        await google.colab.output.renderOutput(dataTable, element);\n",
              "        const docLink = document.createElement('div');\n",
              "        docLink.innerHTML = docLinkHtml;\n",
              "        element.appendChild(docLink);\n",
              "      }\n",
              "    </script>\n",
              "  </div>\n",
              "\n",
              "\n",
              "<div id=\"df-81fd0179-ce18-4834-960b-e66b5922e481\">\n",
              "  <button class=\"colab-df-quickchart\" onclick=\"quickchart('df-81fd0179-ce18-4834-960b-e66b5922e481')\"\n",
              "            title=\"Suggest charts\"\n",
              "            style=\"display:none;\">\n",
              "\n",
              "<svg xmlns=\"http://www.w3.org/2000/svg\" height=\"24px\"viewBox=\"0 0 24 24\"\n",
              "     width=\"24px\">\n",
              "    <g>\n",
              "        <path d=\"M19 3H5c-1.1 0-2 .9-2 2v14c0 1.1.9 2 2 2h14c1.1 0 2-.9 2-2V5c0-1.1-.9-2-2-2zM9 17H7v-7h2v7zm4 0h-2V7h2v10zm4 0h-2v-4h2v4z\"/>\n",
              "    </g>\n",
              "</svg>\n",
              "  </button>\n",
              "\n",
              "<style>\n",
              "  .colab-df-quickchart {\n",
              "      --bg-color: #E8F0FE;\n",
              "      --fill-color: #1967D2;\n",
              "      --hover-bg-color: #E2EBFA;\n",
              "      --hover-fill-color: #174EA6;\n",
              "      --disabled-fill-color: #AAA;\n",
              "      --disabled-bg-color: #DDD;\n",
              "  }\n",
              "\n",
              "  [theme=dark] .colab-df-quickchart {\n",
              "      --bg-color: #3B4455;\n",
              "      --fill-color: #D2E3FC;\n",
              "      --hover-bg-color: #434B5C;\n",
              "      --hover-fill-color: #FFFFFF;\n",
              "      --disabled-bg-color: #3B4455;\n",
              "      --disabled-fill-color: #666;\n",
              "  }\n",
              "\n",
              "  .colab-df-quickchart {\n",
              "    background-color: var(--bg-color);\n",
              "    border: none;\n",
              "    border-radius: 50%;\n",
              "    cursor: pointer;\n",
              "    display: none;\n",
              "    fill: var(--fill-color);\n",
              "    height: 32px;\n",
              "    padding: 0;\n",
              "    width: 32px;\n",
              "  }\n",
              "\n",
              "  .colab-df-quickchart:hover {\n",
              "    background-color: var(--hover-bg-color);\n",
              "    box-shadow: 0 1px 2px rgba(60, 64, 67, 0.3), 0 1px 3px 1px rgba(60, 64, 67, 0.15);\n",
              "    fill: var(--button-hover-fill-color);\n",
              "  }\n",
              "\n",
              "  .colab-df-quickchart-complete:disabled,\n",
              "  .colab-df-quickchart-complete:disabled:hover {\n",
              "    background-color: var(--disabled-bg-color);\n",
              "    fill: var(--disabled-fill-color);\n",
              "    box-shadow: none;\n",
              "  }\n",
              "\n",
              "  .colab-df-spinner {\n",
              "    border: 2px solid var(--fill-color);\n",
              "    border-color: transparent;\n",
              "    border-bottom-color: var(--fill-color);\n",
              "    animation:\n",
              "      spin 1s steps(1) infinite;\n",
              "  }\n",
              "\n",
              "  @keyframes spin {\n",
              "    0% {\n",
              "      border-color: transparent;\n",
              "      border-bottom-color: var(--fill-color);\n",
              "      border-left-color: var(--fill-color);\n",
              "    }\n",
              "    20% {\n",
              "      border-color: transparent;\n",
              "      border-left-color: var(--fill-color);\n",
              "      border-top-color: var(--fill-color);\n",
              "    }\n",
              "    30% {\n",
              "      border-color: transparent;\n",
              "      border-left-color: var(--fill-color);\n",
              "      border-top-color: var(--fill-color);\n",
              "      border-right-color: var(--fill-color);\n",
              "    }\n",
              "    40% {\n",
              "      border-color: transparent;\n",
              "      border-right-color: var(--fill-color);\n",
              "      border-top-color: var(--fill-color);\n",
              "    }\n",
              "    60% {\n",
              "      border-color: transparent;\n",
              "      border-right-color: var(--fill-color);\n",
              "    }\n",
              "    80% {\n",
              "      border-color: transparent;\n",
              "      border-right-color: var(--fill-color);\n",
              "      border-bottom-color: var(--fill-color);\n",
              "    }\n",
              "    90% {\n",
              "      border-color: transparent;\n",
              "      border-bottom-color: var(--fill-color);\n",
              "    }\n",
              "  }\n",
              "</style>\n",
              "\n",
              "  <script>\n",
              "    async function quickchart(key) {\n",
              "      const quickchartButtonEl =\n",
              "        document.querySelector('#' + key + ' button');\n",
              "      quickchartButtonEl.disabled = true;  // To prevent multiple clicks.\n",
              "      quickchartButtonEl.classList.add('colab-df-spinner');\n",
              "      try {\n",
              "        const charts = await google.colab.kernel.invokeFunction(\n",
              "            'suggestCharts', [key], {});\n",
              "      } catch (error) {\n",
              "        console.error('Error during call to suggestCharts:', error);\n",
              "      }\n",
              "      quickchartButtonEl.classList.remove('colab-df-spinner');\n",
              "      quickchartButtonEl.classList.add('colab-df-quickchart-complete');\n",
              "    }\n",
              "    (() => {\n",
              "      let quickchartButtonEl =\n",
              "        document.querySelector('#df-81fd0179-ce18-4834-960b-e66b5922e481 button');\n",
              "      quickchartButtonEl.style.display =\n",
              "        google.colab.kernel.accessAllowed ? 'block' : 'none';\n",
              "    })();\n",
              "  </script>\n",
              "</div>\n",
              "\n",
              "    </div>\n",
              "  </div>\n"
            ],
            "application/vnd.google.colaboratory.intrinsic+json": {
              "type": "dataframe",
              "variable_name": "df",
              "summary": "{\n  \"name\": \"df\",\n  \"rows\": 8675,\n  \"fields\": [\n    {\n      \"column\": \"type\",\n      \"properties\": {\n        \"dtype\": \"category\",\n        \"num_unique_values\": 16,\n        \"samples\": [\n          \"INFJ\",\n          \"ENTP\",\n          \"ENFJ\"\n        ],\n        \"semantic_type\": \"\",\n        \"description\": \"\"\n      }\n    },\n    {\n      \"column\": \"posts\",\n      \"properties\": {\n        \"dtype\": \"string\",\n        \"num_unique_values\": 8675,\n        \"samples\": [\n          \"'This. When I lie it's to avoid an unreasonable response for something I did that was completely justifiable to me but if I was to try to justify to someone else they'd be too hung up on what I did. I...|||Your IQ (SD15): 128|||I typically have very difficult times maintaining friends I've come to realize. I've had people I talk to for years and I still don't want to talk to them... I DID, but then I just got bored of them,...|||An INTJ friend of mine told me she really hates eating because it's so repetitive. As an INTP I don't really feel bothered, I don't really register eating I just do it while I'm thinking about...|||Similar Minds Advanced Test|||INTP 9 sx/so I have a lot of friends but I only have one I speak about how I actually feel with and only 1 other that I talk about what I am actually thinking about - with regards to...|||Getting close to someone and end up wanting to be infinitely close to them and end up merging every damn time.|||Interesting topic, I know two ENFP's, 1 is strange, as an INTP I view some of the stuff she does as 'coming onto me'?  - sort of. She gets really close and is very open to me, just what ENFP's do,...|||As far as I'm aware this is normal in all people, it's not so much your pessimistic self but just that humans are social creatures and you will feel better after socializing for that reason. Being...|||Vajrayaksa  How dare you use Lelouch as an INTP! He is an INTJ I say!|||I normally think about doing this stuff but don't actually do it.|||You'll probably find that commenting on their nihilistic thoughts logically would make them more open. Dismissing ideas will merely make them agree with that idea more as they'll feel a need to...|||Don't worry, calling me thinker is the same.|||INTJ - Winter - Coldest ENTJ - Summer - Actually doing things ENTP - Spring - Bringing out the fun in people INTP - Autumn - No one ever notices this season|||I've known a couple ENTP's, one ENTJ and an INTJ and it kind of went ENTP>ENTJ>ENTP>INTJ I love being able to constantly talk with ENTP's but also they need to know when to stop talking, if an ENTP...|||If you mean actually 1v1ing yourself I also have done this, maybe I'm wrong but I find it pretty easy to think about the most logical move the player I am playing should make with the information...|||Gender: female Age: 19-29 Intelligence: gifted Idea adoption: early-adopter MBTI personality profile: ESFP Closest alternative we found: ESFJ  I think I killed it when it told me to write...|||I'm fine with them, I'm more on shortage of people I'd ever want to do them with but that's on the grounds that any socialising that could be done could just as well be done over skype without the...|||I used to use pencils then I was told that my teachers wanted me to use pens only - so I used pens only. I haven't used a pencil - excluding my games of naughts and crosses earlier - in a couple...|||I'd love to own either a calm house out somewhere distant with a porch and a log cabin aesthetic - fuck it, I want a log cabin. OR I'd actually really like the idea of being in one of those smokey...|||Yeah I enjoy listening to lyrics but it doesn't make much of a difference if they're present or not, if they are there they're just another part of the instrumental I don't necessarily listen to...|||More often then not someone is only going to be fully entering my world if they invite me into theirs first and it's similar or we're friends on the internet - because then there are few...|||What did you get me today?  My head = Shit, shit, shit what did I miss, is it your birthday? Was I supposed to get you something? Are we that good friends that I should be buying you stuff? I...|||I frequently say it as an off hand thing, someone does something really awesome and I say fuck yeah I love you man or something like that. If I was to say it in a genuine way then it'd feel really...|||So something strange has been happening recently, my interest was drawn to naughts and crosses and how I could make it more enjoyable to play. I started by increasing the grid size and tried...|||You could tell them your thoughts. You could not tell them your thoughts and continue to brew over it. I think that there's no reason to be ashamed or annoyed about anything and if you don't...|||loudly, whilst he drew his|||and the baby platypi quivered|||particularly in the higher regions|||Starting with a lingering feeling|||What's the point of stopping? Why does it matter what they're called? Guilty pleasures are pleasures for a reason, does it matter that much?|||their own god dam story|||post multiple times to do|||It's impressive how people would|||Maximum of five words per line, feel free to say other stuff in the most but make sure it's clear which is the five words.     Once upon a time in|||someone who appreciates c.c. Fuck yeah!|||Yeezus can't we come to a reasonable conclusion without you picking a fight? It's not being open minded.|||More often then not I judge them purely by how they judge me, I have a dark sense of humor that I'm not exactly secretive about, I get along with most people on the grounds that I'm just friendly to...|||I chose my avatar as it's an awesome art work of Kaneki from Tokyo Ghoul and by god I loved the manga, love tragedies. Name is a slightly altered version of my name, George - Georgius. Liked the Halo...|||Violence in this situation would probably be a faster way to get things done for both parties involved and especially on the receiving end, trying to talk sense into someone who just said something...|||But surely the point that everyone would be worse off initially isn't relevant? Rebuilding a system would obviously have it's issues here and there.  I'm not crying revolution and I'm not being...|||We'd call it Diagon Alley!|||I'm with you, I make a pretty big point of not being a person for people to expect feelings from, I want to be that person but I just feel wrong, someones crying their eyes out and here I am lying...|||Good call but that's just how I read it ^^'|||What about a four dimensional plane.|||Why airplane why not aeroplane?|||Hit them for having the expectation that you should live up to their expectations which is infuriating in and of itself probably.|||It's just because hitting a women is politically incorrect and some women will use that to their advantage.|||What he's saying is that they should assume that if they say something worthy of being hit for, that they should be grateful when they're not hit for it, not expect not to be hit just on the basis...|||Is it particularly common amongst INTP's and other types to just acknowledge another sides point of view even though socially you shouldn't. What I mean by this is I can't have conversation with...'\",\n          \"'I said zero flexibility and little time for dating. Going around sifting through dates to find one that clicks isn't going to be as viable.  That has nothing to do with maintaining a relationship I...|||How you've come to the conclusion I have nothing to offer  merely because I am busy is beyond me.       No not really. Again, more made up stuff.|||okay, this isn't cool.  you're specifically looking to get into a relationship because you're about to enter a life phase where you will not have any resources to give to a relationship?   that is...|||I do take it slow (that's why I'm still single), but I'm not interested in making friends. I  have friends. Enough for my liking. I'm interested in going on dates with the intent of entering a...|||Absolutely not for me. I find the idea repugnant, actually.|||People could have been polite. Maybe average is a more conservative bet. And I'm not claiming I'm a social butterfly. I'm just a normal guy who is introverted but not a social doofus.  I don't...|||I'm probably giving up the online thing here when my next subscription runs out. After that I really don't know where to look. Bars are a definite no. I don't understand where people meet their...|||I've tried both ways, actually. The last few women I have gone out with have gotten really weird and/or ignored my backhanded compliments. I don't know what to do anymore. Seems I get screwed either...|||I'm actually pretty healthy.     Sorry you feel that way. Not sure which ones you met, but assholes exist everywhere. The number isn't anywhere near 99% though.|||If anything I err on the side of being indifferent. Definitely not overeager.|||Yeah my close friends don't live near me anymore.  The issue is that I have been meeting people, a good amount, and nothing works. I want to know why it is that deformed, infirm, mentally unstable,...|||My friends are in worse positions than I am. Asking them isn't going to help.   As far as feedback, not really because that seems like an extraordinarily awkward thing to ask someone you barely...|||So, I'm a 26 year old male who has been striking out time and time again when it comes to relationships. I've been in one relationship my entire life that lasted like 1.5 years and ended when I was...|||I don't think this sort of dating method is very reasonable, and at best, it is counterproductive. Being friends first just throws a wrench in what is normally a smooth dating process. When you fear...|||Never was a kiss.|||I appreciate the feedback. I think I'm just going to tell her we shouldn't hang out unless she can dedicate a decent amount of time to it. What is happening right now is dragging things out and...|||I don't know. After thinking more, I'm on the verge of giving up. It has nothing to do with seeing her infrequently, or not making it official or what have you. It's that she keeps things...|||I don't know. I'm not a model or anything but I'm decent looking. She's drop dead gorgeous and nice and smart. Guys are always after her it seems. But I'm also smarter and have better career...|||I like your answer, but maybe I'm just being optimistic. It is basically, what I've been doing. I can't shake the feeling that she wouldn't be giving me any of her time if she weren't interested and...|||How am I supposed to know if an INFJ just wants to be friends? Things have been very weird with an INFJ I've been seeing. I've been very upfront about my intentions and she essentially told me she...|||Interesting. I find it unusual INFJs are known for taking forever to open up and trust people yet all the responses so far have indicated kissing in 3 or fewer dates....|||My INFJ friend has been with an INTJ, and i don't want to bust your confidence but even though she liked him at first, she soon found out that he was putting her down and felt caged. I can see that...|||Enlighten us infjs. Also indicate your gender and if you initiated.|||Well there was more than that. She also said she was basically trying to figure out if I'm trustworthy and decent.|||Those two things seem at odds. How can you be simultaneously not saying things that need to be said but also being proactively aggressive?|||Pretty much yeah. Women just do not enjoy my company on any level. I'm in the same situation. Never had any female friends, dated one person in my life and it lasted a little less than two years. The...|||I don't think that is going to help me dig myself out of the very clingy seeming hole I dug myself. I basically asked her if she knew I was romantically interested and she responded of course lol...|||I should have just let things proceed at a natural pace. Pretty pissed at myself. About zero chance she speaks to me again.|||I read through most of that thread. From what I can tell I never did anything egregious. Good chance she lost interest after my bluntness though lol.|||I broke that off shortly after my post. I felt like a slime ball. I only did it because people were telling me she's a lost cause and I should see other people. BTW I have a very well developed...|||Update on this. Told her I liked her and got no reassurance she liked me or even that she wasn't interested. Those who said she was ambivalent were right. I'm pretty much calling it off at this point...|||Yeah so I told her and didn't get an affirmation she liked me nor that she didn't. She basically said she had known for a while I like her. Pretty much what I expected. Probably going to call it...|||Is the crystal ball reference supposed to mean your guess is as good as mine or what? Edit: guess not :p|||So I've gone on six or so dates with an INFJ over a 3 month period (she's pretty busy, and me too) and recently I feel like progress has been a little glacial. For a bit I thought she was warming up...|||She hates texting.  And yeah, she told me how picky she was about people recently and that normally she wouldn't give anyone the time of day.|||You would literally have to have an autism spectrum disorder. I would know.  Not to mention you don't tell someone who is just friends how much you like them. That would be more than bizarre.|||It's kind of hard to get to the point of officially dating when you have no idea what is going on in her head. For all I know an attempt to kiss her would result in abject horror and assault...|||Spoke to her last night, she essentially said she likes me a lot and would normally never make any time for people unless she was obligated to. But she also indirectly used the word friend but it...|||So I met an INFJ female a while back, and we've been out like five or so times on a date. They go well, we get along, everything seems nice. I find her very attractive and we have quite a bit in...|||'  I don't know, I kind of have a rule that I don't compliment a female on her appearance until she trusts me. I did compliment her personality a few times.  She is extremely cautious from what I...|||Well, now I have a new question. Went on a second date a few days ago and it went well and she said she wanted to meet up again. The problem is, there hasn't been an ounce of flirting or touching...|||She started initiating with me and asked if I'm free soon. -_-    If there is anything to be learned it is don't play the analysis game. You will lose.|||Expectations of....?|||I don't know. I can't really fault a strong introvert for being wary about someone she doesn't really know. Number 2 is cruel, but it is how modern dating works.    Pretty sure this isn't the...|||I don't know. I can't really fault a strong introvert for being wary about someone she doesn't really know. Number 2 is cruel, but it is how modern dating works.    Pretty sure this isn't the...|||Thanks, option 1 seems most likely. It seems whenever I finally get her to open up there is like a cascade of good conversation that finally ensues, but it is like pulling teeth initially. Then I...|||I'm socially retarded and would know that if a random stranger asked for my contact info then asked me out for drinks or lunch then the person probably isn't interested in just being friends.|||So I shouldn't be deterred by the fact she doesn't really ever reach out to me? I don't enjoy appearing like someone who can't take a hint or who puts someone else in an awkward situation. I worry...|||No this seems to fit her pretty well.|||Thanks for the advice everyone. I appreciate your taking the time to respond.'\",\n          \"'This has to be written with bias or something, I'm not sure how you could even say that truthfully. For some reason you put subjectivity for both God and man? It says nothing.    That makes no...|||??? How?  The main priority of the church is written throughout it's texts for the past nearly 2000 years and reverberated throughout the church's dialogues both before and after the incident about...|||That's an annoying phrasing, as it's just obtuse and confusing to newcomers. I don't blame you for your response there.    Why must the revealed knowledge not speak truth but contain a bias...|||There are no priestly desk jobs. The closest thing you have to being a priest that gets you away from people is being a monk and that in itself is very different.  I am telling you they did it out...|||No, you really won't. You can't just go to an INTP and assume their intelligence level. That would end in failure. Don't be afraid to ask big questions when musing with the INTP and just try to...|||Heresy is, like, the core reason most all Christian in-fighting occurs. Everything else is minor disputes about theological opinions.|||That's exceedingly subjective. See what they're interested in, strike up a conversation about it. Definitely ask them their thoughts.|||To dismiss my concept of it is to dismiss all history on the topic, dismiss what the apostles taught, and literally all sects of Christianity. But fine, whatever.|||Do cool shit, discuss ideas, have patience, don't try to judge personally too quickly or control them. ALSO, make the first move to show you're interested in talking with them.|||I used to feel about the same until I read the book Self-Made Man, where a lesbian 'butch' woman dressed like a man and tried to live as one. She noticed herself being considered a feminine man quite...|||I'm not sure what the hell is going on in this thread but I would like to say I know no ENTJs personally, I don't think. It'd be neat, though.|||All churches are forms of political institutions. Catholic and Orthodox ones have the benefit of being centralized. All sects have declared doctrine in one way or another.  You're speaking against...|||And here is the most boring post in the whole thread.|||What part? If it's the idea of a teaching authority, you have a problem with all church until the 13th century. If it's the idea of a group being guided by the Holy Spirit in their decisions on...|||For Catholics, the church has a dual meaning. The whole of the believers (the Body of Christ) and the political institution. For Catholicism, their teachings of Christ are said to be protected by...|||Priests were relocated to other parishes so they may quiet down the criticism of the time and handle thing themselves. Again, poor decision but that was their decision.  The church's first priority...|||Well sure then. Yes, the church did protect child offenders. The church's reasoning was the image of the church itself and the their leadership's own ignorance of the size of the problem. The church...|||Edit: Based double post|||No, it really isn't. The Bible itself is the canon collection of texts. The Bible was established once the theological and historical work was done to establish the canon and it was not modified...|||Yes, nevermind it because the two claims do not contradict each other at all. I could work through how there is no contradiction if you're struggling.    I wouldn't say all, no. That's a...|||? There's no way to tell? But many of them depend on logic and/or history that contradicts or ruins their claims? Granted there are a few cases of we're yet to be able to know but many of it can...|||The problem of induction is a grand way of humbling yourself about scientific findings when you're younger. It brings into question if what we know is what we could call true.|||Rubix cubes.|||Pantheism makes no sense. I'd advise otherwise. Atheism and Abrahamic Theism are the only two rational choices.|||You, motherfucker.|||What is the meaning of everything? The universe exists. We are to learn to love in it.|||Disappointed 24 year old reporting in.  Good luck, OP.|||This is exceedingly naive. The early church, before scripture, applied their teaching to better society. After scripture, it was held in high esteem as a basis to properly better society. Most work...|||From the Catholic Catechism (list of official teaching) here is how we are to read the Bible:  III. THE HOLY SPIRIT, INTERPRETER OF SCRIPTURE   109 In Sacred Scripture, God speaks to man in a...|||I never liked people pointing to the Scandinavian model for the success of their economic system and not their incredible oil and natural resource supply compared to their small populations.|||While shit just got stupid for a moment. Lets try to get back on track.|||You're pretty smart, you know that?  Look at this fucker, she thinks I'm smart. Pfft.|||Exceedingly poor.|||I've just been told I'm bright, but I'm sure most everyone else says the same to the kids.|||And what of you?|||The most efficient way to remove self-doubt is to stop doubting yourself so much. Faith and trust, nigga.|||You suspect wrongly. I like the chatter and I'm being friendly with you. I seriously do hope you have a good day too.|||Indeed you do. Feel free to ask/argue/chat/or bullshit with me if you want. Have a good one, man.|||I'd say that's a stretch to say. Catholics believe the bible was inspired by God but written by men. Orthodox do too. As they assembled the biblical canon I'd have to say they have the greatest say...|||Edit: Welp.|||I see the arguments for inconsistencies. Sometimes they aren't actually inconsistencies. Sometimes they are. I find the simplest example of a true one being the rabbit that is apparently chewing...|||Sorry to take so long to get back to you, my internet has been screwing up horribly.  As for the answer, there was a considerable amount of things that got me off the atheist train but if I were to...|||The believing portion was a long and arduous process for me. I researched culture as a hobby and eventually I rolled around to religion. It was an interesting topic for me and I eventually began to...|||To your first statement... just... what. Where did that even come from? Of course they can know love, though with God they can know it fully, I'd argue.  As for Hell, it's taken a variety of...|||I'm very mixed on him. His criticism of Christianity (and envy, now that I've seen the video) is, while popular, piss poor and Max Scheler did a wonderful job making an argument otherwise on his...|||People believing in something as incontrovertibly true is what gets people into a murderous rage? Why just the incontrovertibly true? Why not the empirically true? Why not just majority opinion? To...|||Sure thing. Sounds sorta similar to the Epicurean Paradox.  Suffering/free will exists to strengthen the good. If you create a people so they may know love they cannot sincerely know love if they...|||Yo. Christian INTP here.  Anything you want?|||It's not we can make healthy children! it's we only let the healthy babies live! which is the issue. It's a moral issue about the innate value of life.|||249210'\"\n        ],\n        \"semantic_type\": \"\",\n        \"description\": \"\"\n      }\n    },\n    {\n      \"column\": \"I/E\",\n      \"properties\": {\n        \"dtype\": \"number\",\n        \"std\": 0,\n        \"min\": 0,\n        \"max\": 1,\n        \"num_unique_values\": 2,\n        \"samples\": [\n          1,\n          0\n        ],\n        \"semantic_type\": \"\",\n        \"description\": \"\"\n      }\n    },\n    {\n      \"column\": \"N/S\",\n      \"properties\": {\n        \"dtype\": \"number\",\n        \"std\": 0,\n        \"min\": 0,\n        \"max\": 1,\n        \"num_unique_values\": 2,\n        \"samples\": [\n          1,\n          0\n        ],\n        \"semantic_type\": \"\",\n        \"description\": \"\"\n      }\n    },\n    {\n      \"column\": \"F/T\",\n      \"properties\": {\n        \"dtype\": \"number\",\n        \"std\": 0,\n        \"min\": 0,\n        \"max\": 1,\n        \"num_unique_values\": 2,\n        \"samples\": [\n          1,\n          0\n        ],\n        \"semantic_type\": \"\",\n        \"description\": \"\"\n      }\n    },\n    {\n      \"column\": \"P/J\",\n      \"properties\": {\n        \"dtype\": \"number\",\n        \"std\": 0,\n        \"min\": 0,\n        \"max\": 1,\n        \"num_unique_values\": 2,\n        \"samples\": [\n          0,\n          1\n        ],\n        \"semantic_type\": \"\",\n        \"description\": \"\"\n      }\n    }\n  ]\n}"
            }
          },
          "metadata": {},
          "execution_count": 3
        }
      ]
    },
    {
      "cell_type": "code",
      "source": [
        "print(df[\"I/E\"].value_counts())\n",
        "print(df[\"N/S\"].value_counts())\n",
        "print(df[\"F/T\"].value_counts())\n",
        "print(df[\"P/J\"].value_counts())"
      ],
      "metadata": {
        "colab": {
          "base_uri": "https://localhost:8080/"
        },
        "id": "vCgoXbA7XqgG",
        "outputId": "b0361890-2a8b-4d2b-a393-be7d3c7e254d"
      },
      "execution_count": 4,
      "outputs": [
        {
          "output_type": "stream",
          "name": "stdout",
          "text": [
            "I/E\n",
            "0    6676\n",
            "1    1999\n",
            "Name: count, dtype: int64\n",
            "N/S\n",
            "0    7478\n",
            "1    1197\n",
            "Name: count, dtype: int64\n",
            "F/T\n",
            "0    4694\n",
            "1    3981\n",
            "Name: count, dtype: int64\n",
            "P/J\n",
            "0    5241\n",
            "1    3434\n",
            "Name: count, dtype: int64\n"
          ]
        }
      ]
    },
    {
      "cell_type": "code",
      "source": [
        "# Show the trait distribution in histograms\n",
        "fig, axs = plt.subplots(2, 2, figsize=(12, 8))\n",
        "colors = sns.color_palette(\"pastel\")\n",
        "\n",
        "def bar_plot(colors, ax, title, col):\n",
        "    bars = ax.bar(x = df[col].value_counts().index,\n",
        "           height=df[col].value_counts().values,\n",
        "           color=colors,\n",
        "           tick_label = df[col].value_counts().index)\n",
        "    ax.set_title(title)\n",
        "    ax.set_ylabel(\"Count\")\n",
        "\n",
        "    for bar in bars:\n",
        "      height = bar.get_height()\n",
        "      ax.text(bar.get_x() + bar.get_width() / 2, height,\n",
        "              int(height),\n",
        "              ha=\"center\", va=\"bottom\")\n",
        "\n",
        "bar_plot(colors, axs[0][0], \"I vs. E\", \"I/E\" )\n",
        "bar_plot(colors, axs[0][1], \"N vs. S\", \"N/S\" )\n",
        "bar_plot(colors, axs[1][0], \"F vs. T\", \"F/T\")\n",
        "bar_plot(colors, axs[1][1], \"P vs. J\", \"P/J\")"
      ],
      "metadata": {
        "colab": {
          "base_uri": "https://localhost:8080/",
          "height": 703
        },
        "id": "eK6-DF6cbjmU",
        "outputId": "36ce30b7-2735-463d-8caf-4805a033ce3f"
      },
      "execution_count": 5,
      "outputs": [
        {
          "output_type": "display_data",
          "data": {
            "text/plain": [
              "<Figure size 1200x800 with 4 Axes>"
            ],
            "image/png": "[encoded data removed]"
          },
          "metadata": {}
        }
      ]
    },
    {
      "cell_type": "markdown",
      "source": [
        "# Use BERT + MLP model"
      ],
      "metadata": {
        "id": "YM6yP2cgIxv1"
      }
    },
    {
      "cell_type": "code",
      "source": [
        "# Join the 50 posts into one text string and remove URLs\n",
        "import re\n",
        "\n",
        "def clean_and_join(text):\n",
        "    text = re.sub(r\"http\\S+|www\\S+|https\\S+\", '', text)\n",
        "    return \" \".join(text.split(\"|||\"))\n",
        "\n",
        "def mbti_to_binary(mbti_type):\n",
        "    return [\n",
        "        1 if mbti_type[0] == 'E' else 0,\n",
        "        1 if mbti_type[1] == 'S' else 0,\n",
        "        1 if mbti_type[2] == 'T' else 0,\n",
        "        1 if mbti_type[3] == 'J' else 0\n",
        "    ]\n",
        "\n",
        "df[\"clean_text_bert\"] = df[\"posts\"].apply(clean_and_join)\n",
        "df[\"labels\"] = df[\"type\"].apply(mbti_to_binary)"
      ],
      "metadata": {
        "id": "pFyFR79plyD-"
      },
      "execution_count": 6,
      "outputs": []
    },
    {
      "cell_type": "code",
      "source": [
        "from sklearn.model_selection import train_test_split\n",
        "\n",
        "# Split data\n",
        "train_texts, temp_texts, train_labels, temp_labels = train_test_split(\n",
        "    df[\"clean_text_bert\"].tolist(), df[\"labels\"].tolist(), test_size=0.25, random_state=42\n",
        ")\n",
        "val_texts, test_texts, val_labels, test_labels = train_test_split(\n",
        "    temp_texts, temp_labels, test_size=0.5, random_state=42\n",
        ")"
      ],
      "metadata": {
        "id": "e3d4aiVWEHFL"
      },
      "execution_count": 7,
      "outputs": []
    },
    {
      "cell_type": "code",
      "source": [
        "# Dataset class\n",
        "from torch.utils.data import Dataset, DataLoader\n",
        "\n",
        "class MBTIDataset(Dataset):\n",
        "    def __init__(self, texts, labels, tokenizer, max_len=512):\n",
        "        self.texts = texts\n",
        "        self.labels = labels\n",
        "        self.tokenizer = tokenizer\n",
        "        self.max_len = max_len\n",
        "\n",
        "    def __getitem__(self, idx):\n",
        "        text = self.texts[idx]\n",
        "        inputs = self.tokenizer(text, return_tensors=\"pt\", max_length=self.max_len,\n",
        "                                padding=\"max_length\", truncation=True)\n",
        "        inputs = {k: v.squeeze(0) for k, v in inputs.items()}\n",
        "        label = torch.tensor(self.labels[idx], dtype=torch.float)\n",
        "        return inputs[\"input_ids\"], inputs[\"attention_mask\"], label\n",
        "\n",
        "    def __len__(self):\n",
        "        return len(self.texts)\n"
      ],
      "metadata": {
        "id": "-UN44VpOJp9Q"
      },
      "execution_count": 8,
      "outputs": []
    },
    {
      "cell_type": "code",
      "source": [
        "import torch\n",
        "import torch.nn as nn\n",
        "from transformers import BertTokenizer, BertModel\n",
        "\n",
        "# BERT + MLP model\n",
        "class BertMLPClassifier(nn.Module):\n",
        "    def __init__(self, pretrained_model=\"bert-base-uncased\"):\n",
        "        super(BertMLPClassifier, self).__init__()\n",
        "        self.bert = BertModel.from_pretrained(pretrained_model)\n",
        "        self.classifier = nn.Sequential(\n",
        "            nn.Linear(768, 50),\n",
        "            nn.ReLU(),\n",
        "            nn.Linear(50, 4)\n",
        "        )\n",
        "\n",
        "    def forward(self, input_ids, attention_mask):\n",
        "        outputs = self.bert(input_ids=input_ids, attention_mask=attention_mask)\n",
        "        cls_output = outputs.pooler_output\n",
        "        return self.classifier(cls_output)"
      ],
      "metadata": {
        "id": "0Ynd1oTjGJRl"
      },
      "execution_count": 9,
      "outputs": []
    },
    {
      "cell_type": "code",
      "source": [
        "# Prepare data loaders and model\n",
        "tokenizer = BertTokenizer.from_pretrained(\"bert-base-uncased\")\n",
        "train_dataset = MBTIDataset(train_texts, train_labels, tokenizer)\n",
        "val_dataset = MBTIDataset(val_texts, val_labels, tokenizer)\n",
        "test_dataset = MBTIDataset(test_texts, test_labels, tokenizer)\n",
        "\n",
        "train_loader = DataLoader(train_dataset, batch_size=16, shuffle=True)\n",
        "val_loader = DataLoader(val_dataset, batch_size=16)\n",
        "test_loader = DataLoader(test_dataset, batch_size=16)\n",
        "\n",
        "device = torch.accelerator.current_accelerator().type if torch.accelerator.is_available() else \"cpu\"\n",
        "print(f\"Using {device} device\")\n",
        "model = BertMLPClassifier().to(device)\n",
        "optimizer = torch.optim.Adam(model.parameters(), lr=2e-5)"
      ],
      "metadata": {
        "colab": {
          "base_uri": "https://localhost:8080/",
          "height": 358,
          "referenced_widgets": [
            "89df7f2869ef4768892f07f47b2f8fa0",
            "ecc7401921b74ae2a7d86cebc3fb9626",
            "d48bf386d7d24df79ed00d2496561c8a",
            "8a6d165bb8f24a10a166108fb7729bdb",
            "773082bd3b3d45898e65e32afaa35bef",
            "82147c6d07f34630a4dfe36665fdfbd9",
            "a1156ace8436423fbdc39fd8cca0fcee",
            "3d14d69ceb16496092d55c413fcd5026",
            "3a60b1a7e24a436c8920af271e0c1ad4",
            "a79b7b8b1ffc4b4da04f583b3bc00655",
            "7c3d75809b8140b6a8afd8f84b33f7fa",
            "32664ff3bde34c1f806e8a20d7971ebc",
            "62c12087394c4f6e980473977129217f",
            "67d9db840eb84a2db07d887e80209fdf",
            "c4d1edca0bfd48d1a77591cf4c46cca1",
            "4ba58d30d94743499a0f82fd814dc2f8",
            "dffaffe7bf7c422b9a77fc2d2ac4e69e",
            "dd3db7d45643487cbf69cee8c040020d",
            "53770119fb8b449a8211e3dfa2594b0d",
            "b40c6cfcc0444857b42fbfd44f84ec27",
            "ec553dcebc004994bf5179ece20b476b",
            "9eb25433d9a540eeaa9cc467b5e31d72",
            "121c8258ee9946f381835b3ae04c9ce6",
            "ac8871ccafe549588157cb1844e8c5eb",
            "aaff9a629dde4f04b031eab25e155fb1",
            "e550dae69032454288de6f073613993d",
            "0c4bf82c56fe4f429c90b192e0befde0",
            "ca036326309e44e787c4d22e5da5803a",
            "31f0132fc68e4b41a3de165f4408727c",
            "2c915f9686e04c499f9a488c496a79d2",
            "1f90e45aef7f42c5906f44245051cfbc",
            "041b119902b44b57965388f14db702be",
            "f7e217dc67f549829e2d0a22b009a39b",
            "2e7075157f1643d7ad175f4f182046ef",
            "ed5ceafe34494cbfbf91d02bc760df16",
            "7b6576b4ea2645fa95fa8d1983b18602",
            "917b4da90d8a4c78bee8b2f3212ba5f4",
            "e42098e571b14ac6b9c73a19eb77a63d",
            "73b453524550498f86569c991166fb4a",
            "54ffc3b1cd8f4d83be0b4c2fbc91a34d",
            "d47b033cfd964b9da9feceae75ba086f",
            "1ded228c0e5f406abd269192597088b5",
            "8dbe80cd63c040da91dc78acfdafa7e8",
            "cddf82b245c94b71974ca9487afb7bfa",
            "3f9dc76b4044404fbcacbb0ce2a1c770",
            "82e3544080d54734acbf9840cdf34e11",
            "8d599ad142834e0087f236a40f7a8319",
            "5076dee29fe349578bdbe13dc03d753e",
            "a91b8562940b483f9492e6f63534b635",
            "1b75c8a2fa5f488bb0e96906e256f66c",
            "99197f6d9dd945e8baa34e97687afa4e",
            "934cc6ff4ed74152941298b037d35450",
            "4de816f057e04679b5fe4094c0c011ef",
            "c2ff60356bad4385865ca103bc6333e4",
            "8fceaa0916924c2a98117db78f1ff11f"
          ]
        },
        "id": "TbJy13s3higH",
        "outputId": "3709fca3-26de-4c9f-dadf-40611bae9189"
      },
      "execution_count": 10,
      "outputs": [
        {
          "output_type": "stream",
          "name": "stderr",
          "text": [
            "/usr/local/lib/python3.11/dist-packages/huggingface_hub/utils/_auth.py:94: UserWarning: \n",
            "The secret `HF_TOKEN` does not exist in your Colab secrets.\n",
            "To authenticate with the Hugging Face Hub, create a token in your settings tab (https://huggingface.co/settings/tokens), set it as secret in your Google Colab and restart your session.\n",
            "You will be able to reuse this secret in all of your notebooks.\n",
            "Please note that authentication is recommended but still optional to access public models or datasets.\n",
            "  warnings.warn(\n"
          ]
        },
        {
          "output_type": "display_data",
          "data": {
            "text/plain": [
              "tokenizer_config.json:   0%|          | 0.00/48.0 [00:00<?, ?B/s]"
            ],
            "application/vnd.jupyter.widget-view+json": {
              "version_major": 2,
              "version_minor": 0,
              "model_id": "89df7f2869ef4768892f07f47b2f8fa0"
            }
          },
          "metadata": {}
        },
        {
          "output_type": "display_data",
          "data": {
            "text/plain": [
              "vocab.txt:   0%|          | 0.00/232k [00:00<?, ?B/s]"
            ],
            "application/vnd.jupyter.widget-view+json": {
              "version_major": 2,
              "version_minor": 0,
              "model_id": "32664ff3bde34c1f806e8a20d7971ebc"
            }
          },
          "metadata": {}
        },
        {
          "output_type": "display_data",
          "data": {
            "text/plain": [
              "tokenizer.json:   0%|          | 0.00/466k [00:00<?, ?B/s]"
            ],
            "application/vnd.jupyter.widget-view+json": {
              "version_major": 2,
              "version_minor": 0,
              "model_id": "121c8258ee9946f381835b3ae04c9ce6"
            }
          },
          "metadata": {}
        },
        {
          "output_type": "display_data",
          "data": {
            "text/plain": [
              "config.json:   0%|          | 0.00/570 [00:00<?, ?B/s]"
            ],
            "application/vnd.jupyter.widget-view+json": {
              "version_major": 2,
              "version_minor": 0,
              "model_id": "2e7075157f1643d7ad175f4f182046ef"
            }
          },
          "metadata": {}
        },
        {
          "output_type": "stream",
          "name": "stdout",
          "text": [
            "Using cuda device\n"
          ]
        },
        {
          "output_type": "stream",
          "name": "stderr",
          "text": [
            "Xet Storage is enabled for this repo, but the 'hf_xet' package is not installed. Falling back to regular HTTP download. For better performance, install the package with: `pip install huggingface_hub[hf_xet]` or `pip install hf_xet`\n",
            "WARNING:huggingface_hub.file_download:Xet Storage is enabled for this repo, but the 'hf_xet' package is not installed. Falling back to regular HTTP download. For better performance, install the package with: `pip install huggingface_hub[hf_xet]` or `pip install hf_xet`\n"
          ]
        },
        {
          "output_type": "display_data",
          "data": {
            "text/plain": [
              "model.safetensors:   0%|          | 0.00/440M [00:00<?, ?B/s]"
            ],
            "application/vnd.jupyter.widget-view+json": {
              "version_major": 2,
              "version_minor": 0,
              "model_id": "3f9dc76b4044404fbcacbb0ce2a1c770"
            }
          },
          "metadata": {}
        }
      ]
    },
    {
      "cell_type": "code",
      "source": [
        "import numpy as np\n",
        "\n",
        "# Compute pos_weight to handle label imbalance\n",
        "y_array = np.array(train_labels)\n",
        "pos_weights = torch.tensor([(len(y_array) / y_array[:, i].sum()) for i in range(4)]).to(device)\n",
        "loss_fn = nn.BCEWithLogitsLoss(pos_weight=pos_weights)"
      ],
      "metadata": {
        "id": "clwVKOF0yDaG"
      },
      "execution_count": 11,
      "outputs": []
    },
    {
      "cell_type": "code",
      "source": [
        "# Learning rate scheduler with warmup + decay\n",
        "from transformers import get_linear_schedule_with_warmup\n",
        "\n",
        "epochs = 10\n",
        "patience = 3  # for early stopping\n",
        "total_steps = len(train_loader) * epochs\n",
        "scheduler = get_linear_schedule_with_warmup(\n",
        "    optimizer,\n",
        "    num_warmup_steps=int(0.1 * total_steps),\n",
        "    num_training_steps=total_steps\n",
        ")"
      ],
      "metadata": {
        "id": "Gd73rJ6hp2DE"
      },
      "execution_count": 12,
      "outputs": []
    },
    {
      "cell_type": "code",
      "source": [
        "from tqdm import tqdm\n",
        "\n",
        "# Train the model with early stopping\n",
        "best_loss = float('inf')\n",
        "patience_counter = 0\n",
        "for epoch in range(epochs):\n",
        "    model.train()\n",
        "    total_loss = 0\n",
        "    for step, (input_ids, attention_mask, labels) in enumerate(tqdm(train_loader)):\n",
        "        input_ids = input_ids.to(device)\n",
        "        attention_mask = attention_mask.to(device)\n",
        "        labels = labels.to(device)\n",
        "\n",
        "        optimizer.zero_grad()\n",
        "        logits = model(input_ids, attention_mask)\n",
        "        loss = loss_fn(logits, labels)\n",
        "        loss.backward()\n",
        "        optimizer.step()\n",
        "        scheduler.step()\n",
        "\n",
        "        if step % 50 == 0:\n",
        "            current_lr = scheduler.get_last_lr()[0]\n",
        "            print(f\"Epoch {epoch+1}, Step {step}: Learning Rate = {current_lr:.8f}\")\n",
        "\n",
        "        total_loss += loss.item()\n",
        "\n",
        "    avg_loss = total_loss / len(train_loader)\n",
        "    print(f\"Epoch {epoch + 1} | Avg Loss: {avg_loss:.4f}\")\n",
        "\n",
        "    # early stopping\n",
        "    if avg_loss < best_loss:\n",
        "        best_loss = avg_loss\n",
        "        patience_counter = 0\n",
        "        torch.save(model.state_dict(), \"best_model.pth\")\n",
        "    else:\n",
        "        patience_counter += 1\n",
        "        if patience_counter >= patience:\n",
        "            print(\"Early stopping triggered.\")\n",
        "            break\n"
      ],
      "metadata": {
        "colab": {
          "base_uri": "https://localhost:8080/"
        },
        "id": "wXy3pKxmhpyV",
        "outputId": "e4a1997d-b084-404e-c660-4d559d33a422"
      },
      "execution_count": 13,
      "outputs": [
        {
          "output_type": "stream",
          "name": "stderr",
          "text": [
            "  0%|          | 1/407 [00:02<19:24,  2.87s/it]"
          ]
        },
        {
          "output_type": "stream",
          "name": "stdout",
          "text": [
            "Epoch 1, Step 0: Learning Rate = 0.00000005\n"
          ]
        },
        {
          "output_type": "stream",
          "name": "stderr",
          "text": [
            " 12%|█▏        | 50/407 [01:33<11:35,  1.95s/it]"
          ]
        },
        {
          "output_type": "stream",
          "name": "stdout",
          "text": [
            "Epoch 1, Step 50: Learning Rate = 0.00000251\n"
          ]
        },
        {
          "output_type": "stream",
          "name": "stderr",
          "text": [
            " 25%|██▍       | 100/407 [03:05<09:30,  1.86s/it]"
          ]
        },
        {
          "output_type": "stream",
          "name": "stdout",
          "text": [
            "Epoch 1, Step 100: Learning Rate = 0.00000496\n"
          ]
        },
        {
          "output_type": "stream",
          "name": "stderr",
          "text": [
            " 37%|███▋      | 150/407 [04:36<07:44,  1.81s/it]"
          ]
        },
        {
          "output_type": "stream",
          "name": "stdout",
          "text": [
            "Epoch 1, Step 150: Learning Rate = 0.00000742\n"
          ]
        },
        {
          "output_type": "stream",
          "name": "stderr",
          "text": [
            " 49%|████▉     | 200/407 [06:06<06:18,  1.83s/it]"
          ]
        },
        {
          "output_type": "stream",
          "name": "stdout",
          "text": [
            "Epoch 1, Step 200: Learning Rate = 0.00000988\n"
          ]
        },
        {
          "output_type": "stream",
          "name": "stderr",
          "text": [
            " 61%|██████▏   | 250/407 [07:37<04:42,  1.80s/it]"
          ]
        },
        {
          "output_type": "stream",
          "name": "stdout",
          "text": [
            "Epoch 1, Step 250: Learning Rate = 0.00001233\n"
          ]
        },
        {
          "output_type": "stream",
          "name": "stderr",
          "text": [
            " 74%|███████▎  | 300/407 [09:08<03:13,  1.81s/it]"
          ]
        },
        {
          "output_type": "stream",
          "name": "stdout",
          "text": [
            "Epoch 1, Step 300: Learning Rate = 0.00001479\n"
          ]
        },
        {
          "output_type": "stream",
          "name": "stderr",
          "text": [
            " 86%|████████▌ | 350/407 [10:39<01:44,  1.84s/it]"
          ]
        },
        {
          "output_type": "stream",
          "name": "stdout",
          "text": [
            "Epoch 1, Step 350: Learning Rate = 0.00001725\n"
          ]
        },
        {
          "output_type": "stream",
          "name": "stderr",
          "text": [
            " 98%|█████████▊| 400/407 [12:09<00:12,  1.81s/it]"
          ]
        },
        {
          "output_type": "stream",
          "name": "stdout",
          "text": [
            "Epoch 1, Step 400: Learning Rate = 0.00001971\n"
          ]
        },
        {
          "output_type": "stream",
          "name": "stderr",
          "text": [
            "100%|██████████| 407/407 [12:21<00:00,  1.82s/it]\n"
          ]
        },
        {
          "output_type": "stream",
          "name": "stdout",
          "text": [
            "Epoch 1 | Avg Loss: 1.1395\n"
          ]
        },
        {
          "output_type": "stream",
          "name": "stderr",
          "text": [
            "\r  0%|          | 0/407 [00:00<?, ?it/s]"
          ]
        },
        {
          "output_type": "stream",
          "name": "stdout",
          "text": [
            "Epoch 2, Step 0: Learning Rate = 0.00001999\n"
          ]
        },
        {
          "output_type": "stream",
          "name": "stderr",
          "text": [
            " 12%|█▏        | 50/407 [01:44<12:42,  2.14s/it]"
          ]
        },
        {
          "output_type": "stream",
          "name": "stdout",
          "text": [
            "Epoch 2, Step 50: Learning Rate = 0.00001972\n"
          ]
        },
        {
          "output_type": "stream",
          "name": "stderr",
          "text": [
            " 25%|██▍       | 100/407 [03:22<11:16,  2.20s/it]"
          ]
        },
        {
          "output_type": "stream",
          "name": "stdout",
          "text": [
            "Epoch 2, Step 100: Learning Rate = 0.00001945\n"
          ]
        },
        {
          "output_type": "stream",
          "name": "stderr",
          "text": [
            " 37%|███▋      | 150/407 [04:54<07:44,  1.81s/it]"
          ]
        },
        {
          "output_type": "stream",
          "name": "stdout",
          "text": [
            "Epoch 2, Step 150: Learning Rate = 0.00001918\n"
          ]
        },
        {
          "output_type": "stream",
          "name": "stderr",
          "text": [
            " 49%|████▉     | 200/407 [06:24<06:17,  1.82s/it]"
          ]
        },
        {
          "output_type": "stream",
          "name": "stdout",
          "text": [
            "Epoch 2, Step 200: Learning Rate = 0.00001890\n"
          ]
        },
        {
          "output_type": "stream",
          "name": "stderr",
          "text": [
            " 61%|██████▏   | 250/407 [07:56<04:41,  1.79s/it]"
          ]
        },
        {
          "output_type": "stream",
          "name": "stdout",
          "text": [
            "Epoch 2, Step 250: Learning Rate = 0.00001863\n"
          ]
        },
        {
          "output_type": "stream",
          "name": "stderr",
          "text": [
            " 74%|███████▎  | 300/407 [09:27<03:14,  1.81s/it]"
          ]
        },
        {
          "output_type": "stream",
          "name": "stdout",
          "text": [
            "Epoch 2, Step 300: Learning Rate = 0.00001836\n"
          ]
        },
        {
          "output_type": "stream",
          "name": "stderr",
          "text": [
            " 86%|████████▌ | 350/407 [10:58<01:45,  1.85s/it]"
          ]
        },
        {
          "output_type": "stream",
          "name": "stdout",
          "text": [
            "Epoch 2, Step 350: Learning Rate = 0.00001808\n"
          ]
        },
        {
          "output_type": "stream",
          "name": "stderr",
          "text": [
            " 98%|█████████▊| 400/407 [12:28<00:12,  1.80s/it]"
          ]
        },
        {
          "output_type": "stream",
          "name": "stdout",
          "text": [
            "Epoch 2, Step 400: Learning Rate = 0.00001781\n"
          ]
        },
        {
          "output_type": "stream",
          "name": "stderr",
          "text": [
            "100%|██████████| 407/407 [12:40<00:00,  1.87s/it]\n"
          ]
        },
        {
          "output_type": "stream",
          "name": "stdout",
          "text": [
            "Epoch 2 | Avg Loss: 0.9856\n"
          ]
        },
        {
          "output_type": "stream",
          "name": "stderr",
          "text": [
            "\r  0%|          | 0/407 [00:00<?, ?it/s]"
          ]
        },
        {
          "output_type": "stream",
          "name": "stdout",
          "text": [
            "Epoch 3, Step 0: Learning Rate = 0.00001777\n"
          ]
        },
        {
          "output_type": "stream",
          "name": "stderr",
          "text": [
            " 12%|█▏        | 50/407 [01:30<10:33,  1.77s/it]"
          ]
        },
        {
          "output_type": "stream",
          "name": "stdout",
          "text": [
            "Epoch 3, Step 50: Learning Rate = 0.00001750\n"
          ]
        },
        {
          "output_type": "stream",
          "name": "stderr",
          "text": [
            " 25%|██▍       | 100/407 [03:01<09:10,  1.79s/it]"
          ]
        },
        {
          "output_type": "stream",
          "name": "stdout",
          "text": [
            "Epoch 3, Step 100: Learning Rate = 0.00001723\n"
          ]
        },
        {
          "output_type": "stream",
          "name": "stderr",
          "text": [
            " 37%|███▋      | 150/407 [04:32<08:01,  1.87s/it]"
          ]
        },
        {
          "output_type": "stream",
          "name": "stdout",
          "text": [
            "Epoch 3, Step 150: Learning Rate = 0.00001695\n"
          ]
        },
        {
          "output_type": "stream",
          "name": "stderr",
          "text": [
            " 49%|████▉     | 200/407 [06:04<06:47,  1.97s/it]"
          ]
        },
        {
          "output_type": "stream",
          "name": "stdout",
          "text": [
            "Epoch 3, Step 200: Learning Rate = 0.00001668\n"
          ]
        },
        {
          "output_type": "stream",
          "name": "stderr",
          "text": [
            " 61%|██████▏   | 250/407 [07:40<04:39,  1.78s/it]"
          ]
        },
        {
          "output_type": "stream",
          "name": "stdout",
          "text": [
            "Epoch 3, Step 250: Learning Rate = 0.00001641\n"
          ]
        },
        {
          "output_type": "stream",
          "name": "stderr",
          "text": [
            " 74%|███████▎  | 300/407 [09:11<03:14,  1.81s/it]"
          ]
        },
        {
          "output_type": "stream",
          "name": "stdout",
          "text": [
            "Epoch 3, Step 300: Learning Rate = 0.00001613\n"
          ]
        },
        {
          "output_type": "stream",
          "name": "stderr",
          "text": [
            " 86%|████████▌ | 350/407 [10:41<01:41,  1.79s/it]"
          ]
        },
        {
          "output_type": "stream",
          "name": "stdout",
          "text": [
            "Epoch 3, Step 350: Learning Rate = 0.00001586\n"
          ]
        },
        {
          "output_type": "stream",
          "name": "stderr",
          "text": [
            " 98%|█████████▊| 400/407 [12:12<00:12,  1.79s/it]"
          ]
        },
        {
          "output_type": "stream",
          "name": "stdout",
          "text": [
            "Epoch 3, Step 400: Learning Rate = 0.00001559\n"
          ]
        },
        {
          "output_type": "stream",
          "name": "stderr",
          "text": [
            "100%|██████████| 407/407 [12:24<00:00,  1.83s/it]\n"
          ]
        },
        {
          "output_type": "stream",
          "name": "stdout",
          "text": [
            "Epoch 3 | Avg Loss: 0.7792\n"
          ]
        },
        {
          "output_type": "stream",
          "name": "stderr",
          "text": [
            "\r  0%|          | 0/407 [00:00<?, ?it/s]"
          ]
        },
        {
          "output_type": "stream",
          "name": "stdout",
          "text": [
            "Epoch 4, Step 0: Learning Rate = 0.00001555\n"
          ]
        },
        {
          "output_type": "stream",
          "name": "stderr",
          "text": [
            " 12%|█▏        | 50/407 [01:30<10:48,  1.82s/it]"
          ]
        },
        {
          "output_type": "stream",
          "name": "stdout",
          "text": [
            "Epoch 4, Step 50: Learning Rate = 0.00001528\n"
          ]
        },
        {
          "output_type": "stream",
          "name": "stderr",
          "text": [
            " 25%|██▍       | 100/407 [03:01<09:18,  1.82s/it]"
          ]
        },
        {
          "output_type": "stream",
          "name": "stdout",
          "text": [
            "Epoch 4, Step 100: Learning Rate = 0.00001500\n"
          ]
        },
        {
          "output_type": "stream",
          "name": "stderr",
          "text": [
            " 37%|███▋      | 150/407 [04:32<07:40,  1.79s/it]"
          ]
        },
        {
          "output_type": "stream",
          "name": "stdout",
          "text": [
            "Epoch 4, Step 150: Learning Rate = 0.00001473\n"
          ]
        },
        {
          "output_type": "stream",
          "name": "stderr",
          "text": [
            " 49%|████▉     | 200/407 [06:03<06:17,  1.82s/it]"
          ]
        },
        {
          "output_type": "stream",
          "name": "stdout",
          "text": [
            "Epoch 4, Step 200: Learning Rate = 0.00001446\n"
          ]
        },
        {
          "output_type": "stream",
          "name": "stderr",
          "text": [
            " 61%|██████▏   | 250/407 [07:34<04:53,  1.87s/it]"
          ]
        },
        {
          "output_type": "stream",
          "name": "stdout",
          "text": [
            "Epoch 4, Step 250: Learning Rate = 0.00001419\n"
          ]
        },
        {
          "output_type": "stream",
          "name": "stderr",
          "text": [
            " 74%|███████▎  | 300/407 [09:05<03:11,  1.79s/it]"
          ]
        },
        {
          "output_type": "stream",
          "name": "stdout",
          "text": [
            "Epoch 4, Step 300: Learning Rate = 0.00001391\n"
          ]
        },
        {
          "output_type": "stream",
          "name": "stderr",
          "text": [
            " 86%|████████▌ | 350/407 [10:35<01:44,  1.84s/it]"
          ]
        },
        {
          "output_type": "stream",
          "name": "stdout",
          "text": [
            "Epoch 4, Step 350: Learning Rate = 0.00001364\n"
          ]
        },
        {
          "output_type": "stream",
          "name": "stderr",
          "text": [
            " 98%|█████████▊| 400/407 [12:06<00:12,  1.79s/it]"
          ]
        },
        {
          "output_type": "stream",
          "name": "stdout",
          "text": [
            "Epoch 4, Step 400: Learning Rate = 0.00001337\n"
          ]
        },
        {
          "output_type": "stream",
          "name": "stderr",
          "text": [
            "100%|██████████| 407/407 [12:18<00:00,  1.81s/it]\n"
          ]
        },
        {
          "output_type": "stream",
          "name": "stdout",
          "text": [
            "Epoch 4 | Avg Loss: 0.6373\n"
          ]
        },
        {
          "output_type": "stream",
          "name": "stderr",
          "text": [
            "\r  0%|          | 0/407 [00:00<?, ?it/s]"
          ]
        },
        {
          "output_type": "stream",
          "name": "stdout",
          "text": [
            "Epoch 5, Step 0: Learning Rate = 0.00001333\n"
          ]
        },
        {
          "output_type": "stream",
          "name": "stderr",
          "text": [
            " 12%|█▏        | 50/407 [01:30<10:39,  1.79s/it]"
          ]
        },
        {
          "output_type": "stream",
          "name": "stdout",
          "text": [
            "Epoch 5, Step 50: Learning Rate = 0.00001305\n"
          ]
        },
        {
          "output_type": "stream",
          "name": "stderr",
          "text": [
            " 25%|██▍       | 100/407 [03:01<09:19,  1.82s/it]"
          ]
        },
        {
          "output_type": "stream",
          "name": "stdout",
          "text": [
            "Epoch 5, Step 100: Learning Rate = 0.00001278\n"
          ]
        },
        {
          "output_type": "stream",
          "name": "stderr",
          "text": [
            " 37%|███▋      | 150/407 [04:32<07:38,  1.79s/it]"
          ]
        },
        {
          "output_type": "stream",
          "name": "stdout",
          "text": [
            "Epoch 5, Step 150: Learning Rate = 0.00001251\n"
          ]
        },
        {
          "output_type": "stream",
          "name": "stderr",
          "text": [
            " 49%|████▉     | 200/407 [06:03<06:13,  1.80s/it]"
          ]
        },
        {
          "output_type": "stream",
          "name": "stdout",
          "text": [
            "Epoch 5, Step 200: Learning Rate = 0.00001224\n"
          ]
        },
        {
          "output_type": "stream",
          "name": "stderr",
          "text": [
            " 61%|██████▏   | 250/407 [07:33<04:49,  1.85s/it]"
          ]
        },
        {
          "output_type": "stream",
          "name": "stdout",
          "text": [
            "Epoch 5, Step 250: Learning Rate = 0.00001196\n"
          ]
        },
        {
          "output_type": "stream",
          "name": "stderr",
          "text": [
            " 74%|███████▎  | 300/407 [09:04<03:13,  1.81s/it]"
          ]
        },
        {
          "output_type": "stream",
          "name": "stdout",
          "text": [
            "Epoch 5, Step 300: Learning Rate = 0.00001169\n"
          ]
        },
        {
          "output_type": "stream",
          "name": "stderr",
          "text": [
            " 86%|████████▌ | 350/407 [10:35<01:43,  1.82s/it]"
          ]
        },
        {
          "output_type": "stream",
          "name": "stdout",
          "text": [
            "Epoch 5, Step 350: Learning Rate = 0.00001142\n"
          ]
        },
        {
          "output_type": "stream",
          "name": "stderr",
          "text": [
            " 98%|█████████▊| 400/407 [12:06<00:12,  1.79s/it]"
          ]
        },
        {
          "output_type": "stream",
          "name": "stdout",
          "text": [
            "Epoch 5, Step 400: Learning Rate = 0.00001114\n"
          ]
        },
        {
          "output_type": "stream",
          "name": "stderr",
          "text": [
            "100%|██████████| 407/407 [12:18<00:00,  1.81s/it]\n"
          ]
        },
        {
          "output_type": "stream",
          "name": "stdout",
          "text": [
            "Epoch 5 | Avg Loss: 0.5112\n"
          ]
        },
        {
          "output_type": "stream",
          "name": "stderr",
          "text": [
            "\r  0%|          | 0/407 [00:00<?, ?it/s]"
          ]
        },
        {
          "output_type": "stream",
          "name": "stdout",
          "text": [
            "Epoch 6, Step 0: Learning Rate = 0.00001111\n"
          ]
        },
        {
          "output_type": "stream",
          "name": "stderr",
          "text": [
            " 12%|█▏        | 50/407 [01:30<10:40,  1.79s/it]"
          ]
        },
        {
          "output_type": "stream",
          "name": "stdout",
          "text": [
            "Epoch 6, Step 50: Learning Rate = 0.00001083\n"
          ]
        },
        {
          "output_type": "stream",
          "name": "stderr",
          "text": [
            " 25%|██▍       | 100/407 [03:01<09:20,  1.83s/it]"
          ]
        },
        {
          "output_type": "stream",
          "name": "stdout",
          "text": [
            "Epoch 6, Step 100: Learning Rate = 0.00001056\n"
          ]
        },
        {
          "output_type": "stream",
          "name": "stderr",
          "text": [
            " 37%|███▋      | 150/407 [04:32<07:40,  1.79s/it]"
          ]
        },
        {
          "output_type": "stream",
          "name": "stdout",
          "text": [
            "Epoch 6, Step 150: Learning Rate = 0.00001029\n"
          ]
        },
        {
          "output_type": "stream",
          "name": "stderr",
          "text": [
            " 49%|████▉     | 200/407 [06:02<06:10,  1.79s/it]"
          ]
        },
        {
          "output_type": "stream",
          "name": "stdout",
          "text": [
            "Epoch 6, Step 200: Learning Rate = 0.00001001\n"
          ]
        },
        {
          "output_type": "stream",
          "name": "stderr",
          "text": [
            " 61%|██████▏   | 250/407 [07:33<04:53,  1.87s/it]"
          ]
        },
        {
          "output_type": "stream",
          "name": "stdout",
          "text": [
            "Epoch 6, Step 250: Learning Rate = 0.00000974\n"
          ]
        },
        {
          "output_type": "stream",
          "name": "stderr",
          "text": [
            " 74%|███████▎  | 300/407 [09:04<03:12,  1.80s/it]"
          ]
        },
        {
          "output_type": "stream",
          "name": "stdout",
          "text": [
            "Epoch 6, Step 300: Learning Rate = 0.00000947\n"
          ]
        },
        {
          "output_type": "stream",
          "name": "stderr",
          "text": [
            " 86%|████████▌ | 350/407 [10:35<01:44,  1.82s/it]"
          ]
        },
        {
          "output_type": "stream",
          "name": "stdout",
          "text": [
            "Epoch 6, Step 350: Learning Rate = 0.00000919\n"
          ]
        },
        {
          "output_type": "stream",
          "name": "stderr",
          "text": [
            " 98%|█████████▊| 400/407 [12:06<00:12,  1.80s/it]"
          ]
        },
        {
          "output_type": "stream",
          "name": "stdout",
          "text": [
            "Epoch 6, Step 400: Learning Rate = 0.00000892\n"
          ]
        },
        {
          "output_type": "stream",
          "name": "stderr",
          "text": [
            "100%|██████████| 407/407 [12:18<00:00,  1.81s/it]\n"
          ]
        },
        {
          "output_type": "stream",
          "name": "stdout",
          "text": [
            "Epoch 6 | Avg Loss: 0.4098\n"
          ]
        },
        {
          "output_type": "stream",
          "name": "stderr",
          "text": [
            "\r  0%|          | 0/407 [00:00<?, ?it/s]"
          ]
        },
        {
          "output_type": "stream",
          "name": "stdout",
          "text": [
            "Epoch 7, Step 0: Learning Rate = 0.00000888\n"
          ]
        },
        {
          "output_type": "stream",
          "name": "stderr",
          "text": [
            " 12%|█▏        | 50/407 [01:30<10:38,  1.79s/it]"
          ]
        },
        {
          "output_type": "stream",
          "name": "stdout",
          "text": [
            "Epoch 7, Step 50: Learning Rate = 0.00000861\n"
          ]
        },
        {
          "output_type": "stream",
          "name": "stderr",
          "text": [
            " 25%|██▍       | 100/407 [03:01<09:18,  1.82s/it]"
          ]
        },
        {
          "output_type": "stream",
          "name": "stdout",
          "text": [
            "Epoch 7, Step 100: Learning Rate = 0.00000834\n"
          ]
        },
        {
          "output_type": "stream",
          "name": "stderr",
          "text": [
            " 37%|███▋      | 150/407 [04:32<07:39,  1.79s/it]"
          ]
        },
        {
          "output_type": "stream",
          "name": "stdout",
          "text": [
            "Epoch 7, Step 150: Learning Rate = 0.00000806\n"
          ]
        },
        {
          "output_type": "stream",
          "name": "stderr",
          "text": [
            " 49%|████▉     | 200/407 [06:02<06:12,  1.80s/it]"
          ]
        },
        {
          "output_type": "stream",
          "name": "stdout",
          "text": [
            "Epoch 7, Step 200: Learning Rate = 0.00000779\n"
          ]
        },
        {
          "output_type": "stream",
          "name": "stderr",
          "text": [
            " 61%|██████▏   | 250/407 [07:34<04:55,  1.89s/it]"
          ]
        },
        {
          "output_type": "stream",
          "name": "stdout",
          "text": [
            "Epoch 7, Step 250: Learning Rate = 0.00000752\n"
          ]
        },
        {
          "output_type": "stream",
          "name": "stderr",
          "text": [
            " 74%|███████▎  | 300/407 [09:04<03:11,  1.79s/it]"
          ]
        },
        {
          "output_type": "stream",
          "name": "stdout",
          "text": [
            "Epoch 7, Step 300: Learning Rate = 0.00000725\n"
          ]
        },
        {
          "output_type": "stream",
          "name": "stderr",
          "text": [
            " 86%|████████▌ | 350/407 [10:35<01:43,  1.82s/it]"
          ]
        },
        {
          "output_type": "stream",
          "name": "stdout",
          "text": [
            "Epoch 7, Step 350: Learning Rate = 0.00000697\n"
          ]
        },
        {
          "output_type": "stream",
          "name": "stderr",
          "text": [
            " 98%|█████████▊| 400/407 [12:05<00:12,  1.79s/it]"
          ]
        },
        {
          "output_type": "stream",
          "name": "stdout",
          "text": [
            "Epoch 7, Step 400: Learning Rate = 0.00000670\n"
          ]
        },
        {
          "output_type": "stream",
          "name": "stderr",
          "text": [
            "100%|██████████| 407/407 [12:17<00:00,  1.81s/it]\n"
          ]
        },
        {
          "output_type": "stream",
          "name": "stdout",
          "text": [
            "Epoch 7 | Avg Loss: 0.3345\n"
          ]
        },
        {
          "output_type": "stream",
          "name": "stderr",
          "text": [
            "\r  0%|          | 0/407 [00:00<?, ?it/s]"
          ]
        },
        {
          "output_type": "stream",
          "name": "stdout",
          "text": [
            "Epoch 8, Step 0: Learning Rate = 0.00000666\n"
          ]
        },
        {
          "output_type": "stream",
          "name": "stderr",
          "text": [
            " 12%|█▏        | 50/407 [01:30<10:45,  1.81s/it]"
          ]
        },
        {
          "output_type": "stream",
          "name": "stdout",
          "text": [
            "Epoch 8, Step 50: Learning Rate = 0.00000639\n"
          ]
        },
        {
          "output_type": "stream",
          "name": "stderr",
          "text": [
            " 25%|██▍       | 100/407 [03:01<09:22,  1.83s/it]"
          ]
        },
        {
          "output_type": "stream",
          "name": "stdout",
          "text": [
            "Epoch 8, Step 100: Learning Rate = 0.00000612\n"
          ]
        },
        {
          "output_type": "stream",
          "name": "stderr",
          "text": [
            " 37%|███▋      | 150/407 [04:32<07:39,  1.79s/it]"
          ]
        },
        {
          "output_type": "stream",
          "name": "stdout",
          "text": [
            "Epoch 8, Step 150: Learning Rate = 0.00000584\n"
          ]
        },
        {
          "output_type": "stream",
          "name": "stderr",
          "text": [
            " 49%|████▉     | 200/407 [06:02<06:16,  1.82s/it]"
          ]
        },
        {
          "output_type": "stream",
          "name": "stdout",
          "text": [
            "Epoch 8, Step 200: Learning Rate = 0.00000557\n"
          ]
        },
        {
          "output_type": "stream",
          "name": "stderr",
          "text": [
            " 61%|██████▏   | 250/407 [07:34<04:51,  1.86s/it]"
          ]
        },
        {
          "output_type": "stream",
          "name": "stdout",
          "text": [
            "Epoch 8, Step 250: Learning Rate = 0.00000530\n"
          ]
        },
        {
          "output_type": "stream",
          "name": "stderr",
          "text": [
            " 74%|███████▎  | 300/407 [09:04<03:10,  1.78s/it]"
          ]
        },
        {
          "output_type": "stream",
          "name": "stdout",
          "text": [
            "Epoch 8, Step 300: Learning Rate = 0.00000502\n"
          ]
        },
        {
          "output_type": "stream",
          "name": "stderr",
          "text": [
            " 86%|████████▌ | 350/407 [10:35<01:45,  1.84s/it]"
          ]
        },
        {
          "output_type": "stream",
          "name": "stdout",
          "text": [
            "Epoch 8, Step 350: Learning Rate = 0.00000475\n"
          ]
        },
        {
          "output_type": "stream",
          "name": "stderr",
          "text": [
            " 98%|█████████▊| 400/407 [12:06<00:12,  1.79s/it]"
          ]
        },
        {
          "output_type": "stream",
          "name": "stdout",
          "text": [
            "Epoch 8, Step 400: Learning Rate = 0.00000448\n"
          ]
        },
        {
          "output_type": "stream",
          "name": "stderr",
          "text": [
            "100%|██████████| 407/407 [12:17<00:00,  1.81s/it]\n"
          ]
        },
        {
          "output_type": "stream",
          "name": "stdout",
          "text": [
            "Epoch 8 | Avg Loss: 0.2792\n"
          ]
        },
        {
          "output_type": "stream",
          "name": "stderr",
          "text": [
            "\r  0%|          | 0/407 [00:00<?, ?it/s]"
          ]
        },
        {
          "output_type": "stream",
          "name": "stdout",
          "text": [
            "Epoch 9, Step 0: Learning Rate = 0.00000444\n"
          ]
        },
        {
          "output_type": "stream",
          "name": "stderr",
          "text": [
            " 12%|█▏        | 50/407 [01:30<10:44,  1.80s/it]"
          ]
        },
        {
          "output_type": "stream",
          "name": "stdout",
          "text": [
            "Epoch 9, Step 50: Learning Rate = 0.00000417\n"
          ]
        },
        {
          "output_type": "stream",
          "name": "stderr",
          "text": [
            " 25%|██▍       | 100/407 [03:01<09:22,  1.83s/it]"
          ]
        },
        {
          "output_type": "stream",
          "name": "stdout",
          "text": [
            "Epoch 9, Step 100: Learning Rate = 0.00000389\n"
          ]
        },
        {
          "output_type": "stream",
          "name": "stderr",
          "text": [
            " 37%|███▋      | 150/407 [04:32<07:41,  1.80s/it]"
          ]
        },
        {
          "output_type": "stream",
          "name": "stdout",
          "text": [
            "Epoch 9, Step 150: Learning Rate = 0.00000362\n"
          ]
        },
        {
          "output_type": "stream",
          "name": "stderr",
          "text": [
            " 49%|████▉     | 200/407 [06:03<06:14,  1.81s/it]"
          ]
        },
        {
          "output_type": "stream",
          "name": "stdout",
          "text": [
            "Epoch 9, Step 200: Learning Rate = 0.00000335\n"
          ]
        },
        {
          "output_type": "stream",
          "name": "stderr",
          "text": [
            " 61%|██████▏   | 250/407 [07:34<04:53,  1.87s/it]"
          ]
        },
        {
          "output_type": "stream",
          "name": "stdout",
          "text": [
            "Epoch 9, Step 250: Learning Rate = 0.00000307\n"
          ]
        },
        {
          "output_type": "stream",
          "name": "stderr",
          "text": [
            " 74%|███████▎  | 300/407 [09:04<03:13,  1.81s/it]"
          ]
        },
        {
          "output_type": "stream",
          "name": "stdout",
          "text": [
            "Epoch 9, Step 300: Learning Rate = 0.00000280\n"
          ]
        },
        {
          "output_type": "stream",
          "name": "stderr",
          "text": [
            " 86%|████████▌ | 350/407 [10:35<01:43,  1.82s/it]"
          ]
        },
        {
          "output_type": "stream",
          "name": "stdout",
          "text": [
            "Epoch 9, Step 350: Learning Rate = 0.00000253\n"
          ]
        },
        {
          "output_type": "stream",
          "name": "stderr",
          "text": [
            " 98%|█████████▊| 400/407 [12:06<00:12,  1.80s/it]"
          ]
        },
        {
          "output_type": "stream",
          "name": "stdout",
          "text": [
            "Epoch 9, Step 400: Learning Rate = 0.00000225\n"
          ]
        },
        {
          "output_type": "stream",
          "name": "stderr",
          "text": [
            "100%|██████████| 407/407 [12:18<00:00,  1.81s/it]\n"
          ]
        },
        {
          "output_type": "stream",
          "name": "stdout",
          "text": [
            "Epoch 9 | Avg Loss: 0.2425\n"
          ]
        },
        {
          "output_type": "stream",
          "name": "stderr",
          "text": [
            "\r  0%|          | 0/407 [00:00<?, ?it/s]"
          ]
        },
        {
          "output_type": "stream",
          "name": "stdout",
          "text": [
            "Epoch 10, Step 0: Learning Rate = 0.00000222\n"
          ]
        },
        {
          "output_type": "stream",
          "name": "stderr",
          "text": [
            " 12%|█▏        | 50/407 [01:30<10:43,  1.80s/it]"
          ]
        },
        {
          "output_type": "stream",
          "name": "stdout",
          "text": [
            "Epoch 10, Step 50: Learning Rate = 0.00000194\n"
          ]
        },
        {
          "output_type": "stream",
          "name": "stderr",
          "text": [
            " 25%|██▍       | 100/407 [03:01<09:17,  1.81s/it]"
          ]
        },
        {
          "output_type": "stream",
          "name": "stdout",
          "text": [
            "Epoch 10, Step 100: Learning Rate = 0.00000167\n"
          ]
        },
        {
          "output_type": "stream",
          "name": "stderr",
          "text": [
            " 37%|███▋      | 150/407 [04:32<07:36,  1.78s/it]"
          ]
        },
        {
          "output_type": "stream",
          "name": "stdout",
          "text": [
            "Epoch 10, Step 150: Learning Rate = 0.00000140\n"
          ]
        },
        {
          "output_type": "stream",
          "name": "stderr",
          "text": [
            " 49%|████▉     | 200/407 [06:02<06:11,  1.80s/it]"
          ]
        },
        {
          "output_type": "stream",
          "name": "stdout",
          "text": [
            "Epoch 10, Step 200: Learning Rate = 0.00000112\n"
          ]
        },
        {
          "output_type": "stream",
          "name": "stderr",
          "text": [
            " 61%|██████▏   | 250/407 [07:33<04:52,  1.86s/it]"
          ]
        },
        {
          "output_type": "stream",
          "name": "stdout",
          "text": [
            "Epoch 10, Step 250: Learning Rate = 0.00000085\n"
          ]
        },
        {
          "output_type": "stream",
          "name": "stderr",
          "text": [
            " 74%|███████▎  | 300/407 [09:04<03:12,  1.80s/it]"
          ]
        },
        {
          "output_type": "stream",
          "name": "stdout",
          "text": [
            "Epoch 10, Step 300: Learning Rate = 0.00000058\n"
          ]
        },
        {
          "output_type": "stream",
          "name": "stderr",
          "text": [
            " 86%|████████▌ | 350/407 [10:35<01:44,  1.83s/it]"
          ]
        },
        {
          "output_type": "stream",
          "name": "stdout",
          "text": [
            "Epoch 10, Step 350: Learning Rate = 0.00000031\n"
          ]
        },
        {
          "output_type": "stream",
          "name": "stderr",
          "text": [
            " 98%|█████████▊| 400/407 [12:05<00:12,  1.80s/it]"
          ]
        },
        {
          "output_type": "stream",
          "name": "stdout",
          "text": [
            "Epoch 10, Step 400: Learning Rate = 0.00000003\n"
          ]
        },
        {
          "output_type": "stream",
          "name": "stderr",
          "text": [
            "100%|██████████| 407/407 [12:17<00:00,  1.81s/it]\n"
          ]
        },
        {
          "output_type": "stream",
          "name": "stdout",
          "text": [
            "Epoch 10 | Avg Loss: 0.2226\n"
          ]
        }
      ]
    },
    {
      "cell_type": "code",
      "source": [
        "from sklearn.metrics import classification_report, multilabel_confusion_matrix\n",
        "\n",
        "print(\"Validation Set Performance:\")\n",
        "y_true_val, y_pred_val = [], []\n",
        "model.eval()\n",
        "with torch.no_grad():\n",
        "    for input_ids, attention_mask, labels in tqdm(val_loader):\n",
        "        input_ids = input_ids.to(device)\n",
        "        attention_mask = attention_mask.to(device)\n",
        "        logits = model(input_ids, attention_mask)\n",
        "        probs = torch.sigmoid(logits).cpu().numpy()\n",
        "        preds = (probs >= 0.5).astype(int)\n",
        "        y_pred_val.extend(preds)\n",
        "        y_true_val.extend(labels.numpy())\n",
        "\n",
        "print(\"\\n\"+classification_report(\n",
        "    np.array(y_true_val),\n",
        "    np.array(y_pred_val),\n",
        "    target_names=[\"I/E\", \"N/S\", \"F/T\", \"P/J\"],\n",
        "    zero_division=0\n",
        "))\n"
      ],
      "metadata": {
        "colab": {
          "base_uri": "https://localhost:8080/"
        },
        "id": "S7pf2X0Er8-I",
        "outputId": "6f05da7f-cdf9-428b-ae9e-cc1a050d42bc"
      },
      "execution_count": 14,
      "outputs": [
        {
          "output_type": "stream",
          "name": "stdout",
          "text": [
            "Validation Set Performance:\n"
          ]
        },
        {
          "output_type": "stream",
          "name": "stderr",
          "text": [
            "100%|██████████| 68/68 [00:52<00:00,  1.29it/s]"
          ]
        },
        {
          "output_type": "stream",
          "name": "stdout",
          "text": [
            "\n",
            "              precision    recall  f1-score   support\n",
            "\n",
            "         I/E       0.57      0.71      0.63       221\n",
            "         N/S       0.63      0.64      0.64       157\n",
            "         F/T       0.82      0.83      0.83       483\n",
            "         P/J       0.69      0.72      0.71       427\n",
            "\n",
            "   micro avg       0.71      0.75      0.73      1288\n",
            "   macro avg       0.68      0.73      0.70      1288\n",
            "weighted avg       0.71      0.75      0.73      1288\n",
            " samples avg       0.57      0.59      0.57      1288\n",
            "\n"
          ]
        },
        {
          "output_type": "stream",
          "name": "stderr",
          "text": [
            "\n"
          ]
        }
      ]
    },
    {
      "cell_type": "code",
      "source": [
        "# Evaluate the model on test set\n",
        "print(\"Test Set Performance:\")\n",
        "y_true_test, y_pred_test = [], []\n",
        "model.eval()\n",
        "with torch.no_grad():\n",
        "    for input_ids, attention_mask, labels in tqdm(test_loader):\n",
        "        input_ids = input_ids.to(device)\n",
        "        attention_mask = attention_mask.to(device)\n",
        "        logits = model(input_ids, attention_mask)\n",
        "        probs = torch.sigmoid(logits).cpu().numpy()\n",
        "        preds = (probs >= 0.5).astype(int)\n",
        "        y_pred_test.extend(preds)\n",
        "        y_true_test.extend(labels.numpy())\n",
        "\n",
        "print(\"\\n\"+classification_report(\n",
        "    np.array(y_true_test), np.array(y_pred_test),\n",
        "    target_names=[\"I/E\", \"N/S\", \"F/T\", \"P/J\"],\n",
        "    zero_division=0\n",
        "))\n"
      ],
      "metadata": {
        "colab": {
          "base_uri": "https://localhost:8080/"
        },
        "id": "9k0ZEa6kWRGM",
        "outputId": "c345d62e-b645-4529-fc8a-a1124a96b6c4"
      },
      "execution_count": 15,
      "outputs": [
        {
          "output_type": "stream",
          "name": "stdout",
          "text": [
            "Test Set Performance:\n"
          ]
        },
        {
          "output_type": "stream",
          "name": "stderr",
          "text": [
            "100%|██████████| 68/68 [00:52<00:00,  1.29it/s]"
          ]
        },
        {
          "output_type": "stream",
          "name": "stdout",
          "text": [
            "\n",
            "              precision    recall  f1-score   support\n",
            "\n",
            "         I/E       0.58      0.70      0.63       252\n",
            "         N/S       0.67      0.63      0.65       150\n",
            "         F/T       0.80      0.84      0.82       507\n",
            "         P/J       0.68      0.78      0.73       415\n",
            "\n",
            "   micro avg       0.70      0.77      0.73      1324\n",
            "   macro avg       0.68      0.74      0.71      1324\n",
            "weighted avg       0.71      0.77      0.74      1324\n",
            " samples avg       0.58      0.60      0.57      1324\n",
            "\n"
          ]
        },
        {
          "output_type": "stream",
          "name": "stderr",
          "text": [
            "\n"
          ]
        }
      ]
    },
    {
      "cell_type": "code",
      "source": [
        "# Confusion matrix for test set\n",
        "conf_matrices_test = multilabel_confusion_matrix(y_true_test, y_pred_test)\n",
        "labels = [\"I/E\", \"N/S\", \"F/T\", \"P/J\"]\n",
        "fig, axes = plt.subplots(2, 2, figsize=(10, 8))\n",
        "for i in range(4):\n",
        "    row, col = i // 2, i % 2\n",
        "    sns.heatmap(conf_matrices_test[i], annot=True, fmt='d', cmap=\"Oranges\", ax=axes[row][col])\n",
        "    axes[row][col].set_title(f\"Confusion Matrix (Test) for {labels[i]}\")\n",
        "    axes[row][col].set_xlabel(\"Predicted\")\n",
        "    axes[row][col].set_ylabel(\"True\")\n",
        "plt.tight_layout()\n",
        "plt.show()"
      ],
      "metadata": {
        "colab": {
          "base_uri": "https://localhost:8080/",
          "height": 801
        },
        "id": "HDpY2JBDnQHF",
        "outputId": "55637399-340a-48f0-e7e1-4eaf482204ad"
      },
      "execution_count": 18,
      "outputs": [
        {
          "output_type": "display_data",
          "data": {
            "text/plain": [
              "<Figure size 1000x800 with 8 Axes>"
            ],
            "image/png": "[encoded data removed]"
          },
          "metadata": {}
        }
      ]
    },
    {
      "cell_type": "code",
      "source": [
        "# Predict MBTI traits for a single input text\n",
        "def predict_mbti(text):\n",
        "    model.eval()\n",
        "    with torch.no_grad():\n",
        "        inputs = tokenizer(text, return_tensors=\"pt\", padding=\"max_length\", truncation=True, max_length=256)\n",
        "        input_ids = inputs[\"input_ids\"].to(device)\n",
        "        attention_mask = inputs[\"attention_mask\"].to(device)\n",
        "        logits = model(input_ids, attention_mask)\n",
        "        probs = torch.sigmoid(logits).squeeze().cpu().numpy()\n",
        "        binary_output = [1 if p >= 0.5 else 0 for p in probs]\n",
        "        mbti_traits = [\"E\" if binary_output[0] else \"I\",\n",
        "                       \"S\" if binary_output[1] else \"N\",\n",
        "                       \"T\" if binary_output[2] else \"F\",\n",
        "                       \"J\" if binary_output[3] else \"P\"]\n",
        "        return \"\".join(mbti_traits), probs\n",
        "\n",
        "example_text = \"I love exploring new places and meeting people. I tend to be logical and like to make decisions quickly.\"\n",
        "pred_type, confidence = predict_mbti(example_text)\n",
        "print(f\"Predicted MBTI type: {pred_type}\")\n",
        "print(f\"Trait confidences: {confidence}\")\n"
      ],
      "metadata": {
        "colab": {
          "base_uri": "https://localhost:8080/"
        },
        "id": "l1TLFbPgiZ0T",
        "outputId": "df87f983-537d-4131-cc92-a56487e9b624"
      },
      "execution_count": 21,
      "outputs": [
        {
          "output_type": "stream",
          "name": "stdout",
          "text": [
            "Predicted MBTI type: ISTP\n",
            "Trait confidences: [0.44119862 0.9614867  0.7166388  0.07651575]\n"
          ]
        }
      ]
    }
  ]
}